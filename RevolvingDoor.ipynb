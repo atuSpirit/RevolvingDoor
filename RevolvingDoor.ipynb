{
 "cells": [
  {
   "cell_type": "markdown",
   "metadata": {},
   "source": [
    "# Keep Employee - Predict employer turnover"
   ]
  },
  {
   "cell_type": "markdown",
   "metadata": {},
   "source": [
    "## Goal\n",
    "Employee turnover refers to the number or percentage of the employees who leave the company and replaced by new employees.  Employee turnover has been rampant in the company. The CFO estimates that the cost of replacing an employee is often larger than 100K USD, taking into account the time spent to interview and find a replacement, placement fees, sign-on bonuses and the loss of productivity for several months.\n",
    "\n",
    "Our goal is to predict employee retention and understand its main drivers."
   ]
  },
  {
   "cell_type": "markdown",
   "metadata": {},
   "source": [
    "## Data\n",
    "We got employee data from a few companies. We have data about all employees who joined from 2011/01/24 to 2015/12/13. For each employee, we also know if they are still at the company as of 2015/12/13 or they have quit. Beside that, we have general info about the employee, such as average salary during his/her tenure, department, and years of experience.\n",
    "\n",
    "1. **employee_id** : id of the employee. Unique by employee per company\n",
    "2. **company_id** : company id.\n",
    "3. **dept** : employee department\n",
    "4. **seniority** : number of yrs of work experience when hired\n",
    "5. **salary**: average yearly salary of the employee during her tenure within the company\n",
    "6. **join_date**: when the employee joined the company, it can only be between 2011/01/24 and 2015/12/13\n",
    "7. **quit_date**: when the employee left her job (if she is still employed as of 2015/12/13, this field is NA)"
   ]
  },
  {
   "cell_type": "code",
   "execution_count": 2,
   "metadata": {},
   "outputs": [],
   "source": [
    "import pandas as pd\n",
    "import numpy as np\n",
    "import matplotlib.pyplot as plt\n",
    "import re\n"
   ]
  },
  {
   "cell_type": "code",
   "execution_count": 3,
   "metadata": {},
   "outputs": [],
   "source": [
    "from sklearn.preprocessing import MinMaxScaler"
   ]
  },
  {
   "cell_type": "code",
   "execution_count": 4,
   "metadata": {},
   "outputs": [],
   "source": [
    "df = pd.read_csv(\"employee_retention.txt\")"
   ]
  },
  {
   "cell_type": "code",
   "execution_count": 5,
   "metadata": {},
   "outputs": [
    {
     "data": {
      "text/html": [
       "<div>\n",
       "<style scoped>\n",
       "    .dataframe tbody tr th:only-of-type {\n",
       "        vertical-align: middle;\n",
       "    }\n",
       "\n",
       "    .dataframe tbody tr th {\n",
       "        vertical-align: top;\n",
       "    }\n",
       "\n",
       "    .dataframe thead th {\n",
       "        text-align: right;\n",
       "    }\n",
       "</style>\n",
       "<table border=\"1\" class=\"dataframe\">\n",
       "  <thead>\n",
       "    <tr style=\"text-align: right;\">\n",
       "      <th></th>\n",
       "      <th>Unnamed: 0</th>\n",
       "      <th>employee_id</th>\n",
       "      <th>company_id</th>\n",
       "      <th>dept</th>\n",
       "      <th>seniority</th>\n",
       "      <th>salary</th>\n",
       "      <th>join_date</th>\n",
       "      <th>quit_date</th>\n",
       "    </tr>\n",
       "  </thead>\n",
       "  <tbody>\n",
       "    <tr>\n",
       "      <th>0</th>\n",
       "      <td>0</td>\n",
       "      <td>1001444.0</td>\n",
       "      <td>8</td>\n",
       "      <td>temp_contractor</td>\n",
       "      <td>0</td>\n",
       "      <td>5850.0</td>\n",
       "      <td>2008-01-26</td>\n",
       "      <td>2008-04-25</td>\n",
       "    </tr>\n",
       "    <tr>\n",
       "      <th>1</th>\n",
       "      <td>1</td>\n",
       "      <td>388804.0</td>\n",
       "      <td>8</td>\n",
       "      <td>design</td>\n",
       "      <td>21</td>\n",
       "      <td>191000.0</td>\n",
       "      <td>05.17.2011</td>\n",
       "      <td>2012-03-16</td>\n",
       "    </tr>\n",
       "    <tr>\n",
       "      <th>2</th>\n",
       "      <td>2</td>\n",
       "      <td>407990.0</td>\n",
       "      <td>3</td>\n",
       "      <td>design</td>\n",
       "      <td>9</td>\n",
       "      <td>90000.0</td>\n",
       "      <td>2012-03-26</td>\n",
       "      <td>2015-04-10</td>\n",
       "    </tr>\n",
       "    <tr>\n",
       "      <th>3</th>\n",
       "      <td>3</td>\n",
       "      <td>120657.0</td>\n",
       "      <td>2</td>\n",
       "      <td>engineer</td>\n",
       "      <td>20</td>\n",
       "      <td>298000.0</td>\n",
       "      <td>2013-04-08</td>\n",
       "      <td>2015-01-30</td>\n",
       "    </tr>\n",
       "    <tr>\n",
       "      <th>4</th>\n",
       "      <td>4</td>\n",
       "      <td>1006393.0</td>\n",
       "      <td>1</td>\n",
       "      <td>temp_contractor</td>\n",
       "      <td>0</td>\n",
       "      <td>8509.0</td>\n",
       "      <td>2008-07-20</td>\n",
       "      <td>2008-10-18</td>\n",
       "    </tr>\n",
       "  </tbody>\n",
       "</table>\n",
       "</div>"
      ],
      "text/plain": [
       "   Unnamed: 0  employee_id  company_id             dept  seniority    salary  \\\n",
       "0           0    1001444.0           8  temp_contractor          0    5850.0   \n",
       "1           1     388804.0           8           design         21  191000.0   \n",
       "2           2     407990.0           3           design          9   90000.0   \n",
       "3           3     120657.0           2         engineer         20  298000.0   \n",
       "4           4    1006393.0           1  temp_contractor          0    8509.0   \n",
       "\n",
       "    join_date   quit_date  \n",
       "0  2008-01-26  2008-04-25  \n",
       "1  05.17.2011  2012-03-16  \n",
       "2  2012-03-26  2015-04-10  \n",
       "3  2013-04-08  2015-01-30  \n",
       "4  2008-07-20  2008-10-18  "
      ]
     },
     "execution_count": 5,
     "metadata": {},
     "output_type": "execute_result"
    }
   ],
   "source": [
    "df.head()"
   ]
  },
  {
   "cell_type": "code",
   "execution_count": 6,
   "metadata": {},
   "outputs": [
    {
     "data": {
      "text/plain": [
       "Unnamed: 0       int64\n",
       "employee_id    float64\n",
       "company_id       int64\n",
       "dept            object\n",
       "seniority        int64\n",
       "salary         float64\n",
       "join_date       object\n",
       "quit_date       object\n",
       "dtype: object"
      ]
     },
     "execution_count": 6,
     "metadata": {},
     "output_type": "execute_result"
    }
   ],
   "source": [
    "df.dtypes"
   ]
  },
  {
   "cell_type": "markdown",
   "metadata": {},
   "source": [
    "## 1. Data Wragling and Cleaning"
   ]
  },
  {
   "cell_type": "code",
   "execution_count": 5,
   "metadata": {},
   "outputs": [],
   "source": [
    "df[\"employee_id\"] = df[\"employee_id\"].astype(int)"
   ]
  },
  {
   "cell_type": "code",
   "execution_count": 6,
   "metadata": {},
   "outputs": [],
   "source": [
    "df = df.drop([\"Unnamed: 0\"], axis=1)"
   ]
  },
  {
   "cell_type": "code",
   "execution_count": 9,
   "metadata": {},
   "outputs": [
    {
     "data": {
      "text/html": [
       "<div>\n",
       "<style scoped>\n",
       "    .dataframe tbody tr th:only-of-type {\n",
       "        vertical-align: middle;\n",
       "    }\n",
       "\n",
       "    .dataframe tbody tr th {\n",
       "        vertical-align: top;\n",
       "    }\n",
       "\n",
       "    .dataframe thead th {\n",
       "        text-align: right;\n",
       "    }\n",
       "</style>\n",
       "<table border=\"1\" class=\"dataframe\">\n",
       "  <thead>\n",
       "    <tr style=\"text-align: right;\">\n",
       "      <th></th>\n",
       "      <th>employee_id</th>\n",
       "      <th>company_id</th>\n",
       "      <th>dept</th>\n",
       "      <th>seniority</th>\n",
       "      <th>salary</th>\n",
       "      <th>join_date</th>\n",
       "      <th>quit_date</th>\n",
       "    </tr>\n",
       "  </thead>\n",
       "  <tbody>\n",
       "    <tr>\n",
       "      <th>0</th>\n",
       "      <td>1001444</td>\n",
       "      <td>8</td>\n",
       "      <td>temp_contractor</td>\n",
       "      <td>0</td>\n",
       "      <td>5850.0</td>\n",
       "      <td>2008-01-26</td>\n",
       "      <td>2008-04-25</td>\n",
       "    </tr>\n",
       "    <tr>\n",
       "      <th>1</th>\n",
       "      <td>388804</td>\n",
       "      <td>8</td>\n",
       "      <td>design</td>\n",
       "      <td>21</td>\n",
       "      <td>191000.0</td>\n",
       "      <td>05.17.2011</td>\n",
       "      <td>2012-03-16</td>\n",
       "    </tr>\n",
       "    <tr>\n",
       "      <th>2</th>\n",
       "      <td>407990</td>\n",
       "      <td>3</td>\n",
       "      <td>design</td>\n",
       "      <td>9</td>\n",
       "      <td>90000.0</td>\n",
       "      <td>2012-03-26</td>\n",
       "      <td>2015-04-10</td>\n",
       "    </tr>\n",
       "    <tr>\n",
       "      <th>3</th>\n",
       "      <td>120657</td>\n",
       "      <td>2</td>\n",
       "      <td>engineer</td>\n",
       "      <td>20</td>\n",
       "      <td>298000.0</td>\n",
       "      <td>2013-04-08</td>\n",
       "      <td>2015-01-30</td>\n",
       "    </tr>\n",
       "    <tr>\n",
       "      <th>4</th>\n",
       "      <td>1006393</td>\n",
       "      <td>1</td>\n",
       "      <td>temp_contractor</td>\n",
       "      <td>0</td>\n",
       "      <td>8509.0</td>\n",
       "      <td>2008-07-20</td>\n",
       "      <td>2008-10-18</td>\n",
       "    </tr>\n",
       "  </tbody>\n",
       "</table>\n",
       "</div>"
      ],
      "text/plain": [
       "   employee_id  company_id             dept  seniority    salary   join_date  \\\n",
       "0      1001444           8  temp_contractor          0    5850.0  2008-01-26   \n",
       "1       388804           8           design         21  191000.0  05.17.2011   \n",
       "2       407990           3           design          9   90000.0  2012-03-26   \n",
       "3       120657           2         engineer         20  298000.0  2013-04-08   \n",
       "4      1006393           1  temp_contractor          0    8509.0  2008-07-20   \n",
       "\n",
       "    quit_date  \n",
       "0  2008-04-25  \n",
       "1  2012-03-16  \n",
       "2  2015-04-10  \n",
       "3  2015-01-30  \n",
       "4  2008-10-18  "
      ]
     },
     "execution_count": 9,
     "metadata": {},
     "output_type": "execute_result"
    }
   ],
   "source": [
    "df.head()"
   ]
  },
  {
   "cell_type": "markdown",
   "metadata": {},
   "source": [
    "### Create the label column whether the employee leave or not"
   ]
  },
  {
   "cell_type": "code",
   "execution_count": 7,
   "metadata": {},
   "outputs": [],
   "source": [
    "df[\"leave\"] = [0 if x == True else 1 for x in df[\"quit_date\"].isnull()]"
   ]
  },
  {
   "cell_type": "code",
   "execution_count": 8,
   "metadata": {},
   "outputs": [
    {
     "data": {
      "text/html": [
       "<div>\n",
       "<style scoped>\n",
       "    .dataframe tbody tr th:only-of-type {\n",
       "        vertical-align: middle;\n",
       "    }\n",
       "\n",
       "    .dataframe tbody tr th {\n",
       "        vertical-align: top;\n",
       "    }\n",
       "\n",
       "    .dataframe thead th {\n",
       "        text-align: right;\n",
       "    }\n",
       "</style>\n",
       "<table border=\"1\" class=\"dataframe\">\n",
       "  <thead>\n",
       "    <tr style=\"text-align: right;\">\n",
       "      <th></th>\n",
       "      <th>employee_id</th>\n",
       "      <th>company_id</th>\n",
       "      <th>dept</th>\n",
       "      <th>seniority</th>\n",
       "      <th>salary</th>\n",
       "      <th>join_date</th>\n",
       "      <th>quit_date</th>\n",
       "      <th>leave</th>\n",
       "    </tr>\n",
       "  </thead>\n",
       "  <tbody>\n",
       "    <tr>\n",
       "      <th>0</th>\n",
       "      <td>1001444</td>\n",
       "      <td>8</td>\n",
       "      <td>temp_contractor</td>\n",
       "      <td>0</td>\n",
       "      <td>5850.0</td>\n",
       "      <td>2008-01-26</td>\n",
       "      <td>2008-04-25</td>\n",
       "      <td>1</td>\n",
       "    </tr>\n",
       "    <tr>\n",
       "      <th>1</th>\n",
       "      <td>388804</td>\n",
       "      <td>8</td>\n",
       "      <td>design</td>\n",
       "      <td>21</td>\n",
       "      <td>191000.0</td>\n",
       "      <td>05.17.2011</td>\n",
       "      <td>2012-03-16</td>\n",
       "      <td>1</td>\n",
       "    </tr>\n",
       "    <tr>\n",
       "      <th>2</th>\n",
       "      <td>407990</td>\n",
       "      <td>3</td>\n",
       "      <td>design</td>\n",
       "      <td>9</td>\n",
       "      <td>90000.0</td>\n",
       "      <td>2012-03-26</td>\n",
       "      <td>2015-04-10</td>\n",
       "      <td>1</td>\n",
       "    </tr>\n",
       "    <tr>\n",
       "      <th>3</th>\n",
       "      <td>120657</td>\n",
       "      <td>2</td>\n",
       "      <td>engineer</td>\n",
       "      <td>20</td>\n",
       "      <td>298000.0</td>\n",
       "      <td>2013-04-08</td>\n",
       "      <td>2015-01-30</td>\n",
       "      <td>1</td>\n",
       "    </tr>\n",
       "    <tr>\n",
       "      <th>4</th>\n",
       "      <td>1006393</td>\n",
       "      <td>1</td>\n",
       "      <td>temp_contractor</td>\n",
       "      <td>0</td>\n",
       "      <td>8509.0</td>\n",
       "      <td>2008-07-20</td>\n",
       "      <td>2008-10-18</td>\n",
       "      <td>1</td>\n",
       "    </tr>\n",
       "    <tr>\n",
       "      <th>5</th>\n",
       "      <td>287530</td>\n",
       "      <td>5</td>\n",
       "      <td>marketing</td>\n",
       "      <td>20</td>\n",
       "      <td>180000.0</td>\n",
       "      <td>2014-06-30</td>\n",
       "      <td>NaN</td>\n",
       "      <td>0</td>\n",
       "    </tr>\n",
       "    <tr>\n",
       "      <th>6</th>\n",
       "      <td>561043</td>\n",
       "      <td>3</td>\n",
       "      <td>customer_service</td>\n",
       "      <td>18</td>\n",
       "      <td>119000.0</td>\n",
       "      <td>2012-07-02</td>\n",
       "      <td>2014-03-28</td>\n",
       "      <td>1</td>\n",
       "    </tr>\n",
       "    <tr>\n",
       "      <th>7</th>\n",
       "      <td>702479</td>\n",
       "      <td>7</td>\n",
       "      <td>data_science</td>\n",
       "      <td>7</td>\n",
       "      <td>140000.0</td>\n",
       "      <td>12.27.2011</td>\n",
       "      <td>2013-08-30</td>\n",
       "      <td>1</td>\n",
       "    </tr>\n",
       "    <tr>\n",
       "      <th>8</th>\n",
       "      <td>545690</td>\n",
       "      <td>10</td>\n",
       "      <td>data_science</td>\n",
       "      <td>16</td>\n",
       "      <td>238000.0</td>\n",
       "      <td>12.23.2013</td>\n",
       "      <td>NaN</td>\n",
       "      <td>0</td>\n",
       "    </tr>\n",
       "    <tr>\n",
       "      <th>9</th>\n",
       "      <td>622587</td>\n",
       "      <td>5</td>\n",
       "      <td>sales</td>\n",
       "      <td>28</td>\n",
       "      <td>166000.0</td>\n",
       "      <td>2015-07-01</td>\n",
       "      <td>NaN</td>\n",
       "      <td>0</td>\n",
       "    </tr>\n",
       "  </tbody>\n",
       "</table>\n",
       "</div>"
      ],
      "text/plain": [
       "   employee_id  company_id              dept  seniority    salary   join_date  \\\n",
       "0      1001444           8   temp_contractor          0    5850.0  2008-01-26   \n",
       "1       388804           8            design         21  191000.0  05.17.2011   \n",
       "2       407990           3            design          9   90000.0  2012-03-26   \n",
       "3       120657           2          engineer         20  298000.0  2013-04-08   \n",
       "4      1006393           1   temp_contractor          0    8509.0  2008-07-20   \n",
       "5       287530           5         marketing         20  180000.0  2014-06-30   \n",
       "6       561043           3  customer_service         18  119000.0  2012-07-02   \n",
       "7       702479           7      data_science          7  140000.0  12.27.2011   \n",
       "8       545690          10      data_science         16  238000.0  12.23.2013   \n",
       "9       622587           5             sales         28  166000.0  2015-07-01   \n",
       "\n",
       "    quit_date  leave  \n",
       "0  2008-04-25      1  \n",
       "1  2012-03-16      1  \n",
       "2  2015-04-10      1  \n",
       "3  2015-01-30      1  \n",
       "4  2008-10-18      1  \n",
       "5         NaN      0  \n",
       "6  2014-03-28      1  \n",
       "7  2013-08-30      1  \n",
       "8         NaN      0  \n",
       "9         NaN      0  "
      ]
     },
     "execution_count": 8,
     "metadata": {},
     "output_type": "execute_result"
    }
   ],
   "source": [
    "df.head(10)"
   ]
  },
  {
   "cell_type": "code",
   "execution_count": 12,
   "metadata": {},
   "outputs": [
    {
     "data": {
      "text/html": [
       "<div>\n",
       "<style scoped>\n",
       "    .dataframe tbody tr th:only-of-type {\n",
       "        vertical-align: middle;\n",
       "    }\n",
       "\n",
       "    .dataframe tbody tr th {\n",
       "        vertical-align: top;\n",
       "    }\n",
       "\n",
       "    .dataframe thead th {\n",
       "        text-align: right;\n",
       "    }\n",
       "</style>\n",
       "<table border=\"1\" class=\"dataframe\">\n",
       "  <thead>\n",
       "    <tr style=\"text-align: right;\">\n",
       "      <th></th>\n",
       "      <th>employee_id</th>\n",
       "      <th>company_id</th>\n",
       "      <th>seniority</th>\n",
       "      <th>salary</th>\n",
       "      <th>leave</th>\n",
       "    </tr>\n",
       "  </thead>\n",
       "  <tbody>\n",
       "    <tr>\n",
       "      <th>count</th>\n",
       "      <td>3.470200e+04</td>\n",
       "      <td>34702.000000</td>\n",
       "      <td>34702.000000</td>\n",
       "      <td>34463.000000</td>\n",
       "      <td>34702.000000</td>\n",
       "    </tr>\n",
       "    <tr>\n",
       "      <th>mean</th>\n",
       "      <td>6.466667e+05</td>\n",
       "      <td>4.023370</td>\n",
       "      <td>10.056625</td>\n",
       "      <td>100280.585004</td>\n",
       "      <td>0.677483</td>\n",
       "    </tr>\n",
       "    <tr>\n",
       "      <th>std</th>\n",
       "      <td>3.337653e+05</td>\n",
       "      <td>2.911201</td>\n",
       "      <td>9.355505</td>\n",
       "      <td>87322.502536</td>\n",
       "      <td>0.467447</td>\n",
       "    </tr>\n",
       "    <tr>\n",
       "      <th>min</th>\n",
       "      <td>3.600000e+01</td>\n",
       "      <td>1.000000</td>\n",
       "      <td>0.000000</td>\n",
       "      <td>5000.000000</td>\n",
       "      <td>0.000000</td>\n",
       "    </tr>\n",
       "    <tr>\n",
       "      <th>25%</th>\n",
       "      <td>3.529228e+05</td>\n",
       "      <td>1.000000</td>\n",
       "      <td>0.000000</td>\n",
       "      <td>9302.000000</td>\n",
       "      <td>0.000000</td>\n",
       "    </tr>\n",
       "    <tr>\n",
       "      <th>50%</th>\n",
       "      <td>7.063230e+05</td>\n",
       "      <td>3.000000</td>\n",
       "      <td>8.000000</td>\n",
       "      <td>88000.000000</td>\n",
       "      <td>1.000000</td>\n",
       "    </tr>\n",
       "    <tr>\n",
       "      <th>75%</th>\n",
       "      <td>1.001324e+06</td>\n",
       "      <td>6.000000</td>\n",
       "      <td>18.000000</td>\n",
       "      <td>158000.000000</td>\n",
       "      <td>1.000000</td>\n",
       "    </tr>\n",
       "    <tr>\n",
       "      <th>max</th>\n",
       "      <td>1.009999e+06</td>\n",
       "      <td>12.000000</td>\n",
       "      <td>99.000000</td>\n",
       "      <td>408000.000000</td>\n",
       "      <td>1.000000</td>\n",
       "    </tr>\n",
       "  </tbody>\n",
       "</table>\n",
       "</div>"
      ],
      "text/plain": [
       "        employee_id    company_id     seniority         salary         leave\n",
       "count  3.470200e+04  34702.000000  34702.000000   34463.000000  34702.000000\n",
       "mean   6.466667e+05      4.023370     10.056625  100280.585004      0.677483\n",
       "std    3.337653e+05      2.911201      9.355505   87322.502536      0.467447\n",
       "min    3.600000e+01      1.000000      0.000000    5000.000000      0.000000\n",
       "25%    3.529228e+05      1.000000      0.000000    9302.000000      0.000000\n",
       "50%    7.063230e+05      3.000000      8.000000   88000.000000      1.000000\n",
       "75%    1.001324e+06      6.000000     18.000000  158000.000000      1.000000\n",
       "max    1.009999e+06     12.000000     99.000000  408000.000000      1.000000"
      ]
     },
     "execution_count": 12,
     "metadata": {},
     "output_type": "execute_result"
    }
   ],
   "source": [
    "df.describe()"
   ]
  },
  {
   "cell_type": "markdown",
   "metadata": {},
   "source": [
    "### Remove error data\n",
    "From the summary of the data, 99 years seniority does not make sense.  Seach for these data. "
   ]
  },
  {
   "cell_type": "code",
   "execution_count": 9,
   "metadata": {},
   "outputs": [
    {
     "data": {
      "text/html": [
       "<div>\n",
       "<style scoped>\n",
       "    .dataframe tbody tr th:only-of-type {\n",
       "        vertical-align: middle;\n",
       "    }\n",
       "\n",
       "    .dataframe tbody tr th {\n",
       "        vertical-align: top;\n",
       "    }\n",
       "\n",
       "    .dataframe thead th {\n",
       "        text-align: right;\n",
       "    }\n",
       "</style>\n",
       "<table border=\"1\" class=\"dataframe\">\n",
       "  <thead>\n",
       "    <tr style=\"text-align: right;\">\n",
       "      <th></th>\n",
       "      <th>employee_id</th>\n",
       "      <th>company_id</th>\n",
       "      <th>dept</th>\n",
       "      <th>seniority</th>\n",
       "      <th>salary</th>\n",
       "      <th>join_date</th>\n",
       "      <th>quit_date</th>\n",
       "      <th>leave</th>\n",
       "    </tr>\n",
       "  </thead>\n",
       "  <tbody>\n",
       "    <tr>\n",
       "      <th>23683</th>\n",
       "      <td>97289</td>\n",
       "      <td>10</td>\n",
       "      <td>engineer</td>\n",
       "      <td>98</td>\n",
       "      <td>266000.0</td>\n",
       "      <td>2011-12-13</td>\n",
       "      <td>2015-01-09</td>\n",
       "      <td>1</td>\n",
       "    </tr>\n",
       "    <tr>\n",
       "      <th>26543</th>\n",
       "      <td>604052</td>\n",
       "      <td>1</td>\n",
       "      <td>marketing</td>\n",
       "      <td>99</td>\n",
       "      <td>185000.0</td>\n",
       "      <td>2011-07-26</td>\n",
       "      <td>2013-12-06</td>\n",
       "      <td>1</td>\n",
       "    </tr>\n",
       "  </tbody>\n",
       "</table>\n",
       "</div>"
      ],
      "text/plain": [
       "       employee_id  company_id       dept  seniority    salary   join_date  \\\n",
       "23683        97289          10   engineer         98  266000.0  2011-12-13   \n",
       "26543       604052           1  marketing         99  185000.0  2011-07-26   \n",
       "\n",
       "        quit_date  leave  \n",
       "23683  2015-01-09      1  \n",
       "26543  2013-12-06      1  "
      ]
     },
     "execution_count": 9,
     "metadata": {},
     "output_type": "execute_result"
    }
   ],
   "source": [
    "df[df[\"seniority\"] > 30]"
   ]
  },
  {
   "cell_type": "code",
   "execution_count": 10,
   "metadata": {},
   "outputs": [],
   "source": [
    "# Delete the wrong data because there is only two data points\n",
    "df = df[df[\"seniority\"] <= 30]"
   ]
  },
  {
   "cell_type": "markdown",
   "metadata": {},
   "source": [
    "###  Check for missing data"
   ]
  },
  {
   "cell_type": "code",
   "execution_count": 15,
   "metadata": {},
   "outputs": [
    {
     "data": {
      "text/plain": [
       "employee_id        0\n",
       "company_id         0\n",
       "dept               0\n",
       "seniority          0\n",
       "salary           239\n",
       "join_date          0\n",
       "quit_date      11192\n",
       "leave              0\n",
       "dtype: int64"
      ]
     },
     "execution_count": 15,
     "metadata": {},
     "output_type": "execute_result"
    }
   ],
   "source": [
    "np.sum(df.isnull())"
   ]
  },
  {
   "cell_type": "markdown",
   "metadata": {},
   "source": [
    "`salary` and `quit_date` contain missing data.  Missing data `quit_data` are due to the employee not leaving. So deal with `quit_data` first."
   ]
  },
  {
   "cell_type": "markdown",
   "metadata": {},
   "source": [
    "### Deal with date\n",
    "Transfer date column to datetime in pandas"
   ]
  },
  {
   "cell_type": "code",
   "execution_count": 11,
   "metadata": {},
   "outputs": [],
   "source": [
    "df[\"join_date\"] = [pd.to_datetime(x, format=\"%m.%d.%Y\") if re.match(r\"(\\d+)\\.\", x) else x for x in df[\"join_date\"]]"
   ]
  },
  {
   "cell_type": "code",
   "execution_count": 12,
   "metadata": {},
   "outputs": [],
   "source": [
    "df[\"quit_date\"] = df[\"quit_date\"].fillna(pd.to_datetime(\"2015-12-13\", format=\"%Y-%m-%d\"))"
   ]
  },
  {
   "cell_type": "code",
   "execution_count": 13,
   "metadata": {},
   "outputs": [],
   "source": [
    "df[\"quit_date\"] = [pd.to_datetime(x, format=\"%Y-%m-%d\") for x in df[\"quit_date\"]]"
   ]
  },
  {
   "cell_type": "markdown",
   "metadata": {},
   "source": [
    "### Deal with missing data in salary"
   ]
  },
  {
   "cell_type": "code",
   "execution_count": 14,
   "metadata": {},
   "outputs": [
    {
     "data": {
      "text/plain": [
       "employee_id      0\n",
       "company_id       0\n",
       "dept             0\n",
       "seniority        0\n",
       "salary         239\n",
       "join_date        0\n",
       "quit_date        0\n",
       "leave            0\n",
       "dtype: int64"
      ]
     },
     "execution_count": 14,
     "metadata": {},
     "output_type": "execute_result"
    }
   ],
   "source": [
    "np.sum(df.isnull())"
   ]
  },
  {
   "cell_type": "code",
   "execution_count": 15,
   "metadata": {},
   "outputs": [
    {
     "name": "stdout",
     "output_type": "stream",
     "text": [
      "The ratio of missing value in column salary is 0.006888\n"
     ]
    }
   ],
   "source": [
    "print(\"The ratio of missing value in column salary is {:.4}\".format(239 / df.shape[0]))"
   ]
  },
  {
   "cell_type": "code",
   "execution_count": 16,
   "metadata": {},
   "outputs": [],
   "source": [
    "df_new = df.dropna(subset=[\"salary\"])"
   ]
  },
  {
   "cell_type": "code",
   "execution_count": 25,
   "metadata": {},
   "outputs": [
    {
     "name": "stdout",
     "output_type": "stream",
     "text": [
      "        employee_id    company_id     seniority         salary         leave\n",
      "count  3.470000e+04  34700.000000  34700.000000   34461.000000  34700.000000\n",
      "mean   6.466837e+05      4.023285     10.051527  100273.317692      0.677464\n",
      "std    3.337618e+05      2.911062      9.331646   87319.280339      0.467454\n",
      "min    3.600000e+01      1.000000      0.000000    5000.000000      0.000000\n",
      "25%    3.529462e+05      1.000000      0.000000    9302.000000      0.000000\n",
      "50%    7.063750e+05      3.000000      8.000000   88000.000000      1.000000\n",
      "75%    1.001324e+06      6.000000     18.000000  158000.000000      1.000000\n",
      "max    1.009999e+06     12.000000     29.000000  408000.000000      1.000000\n",
      "        employee_id    company_id     seniority         salary         leave\n",
      "count  3.446100e+04  34461.000000  34461.000000   34461.000000  34461.000000\n",
      "mean   6.477072e+05      4.026755     10.026320  100273.317692      0.678361\n",
      "std    3.338259e+05      2.912156      9.335557   87319.280339      0.467112\n",
      "min    3.600000e+01      1.000000      0.000000    5000.000000      0.000000\n",
      "25%    3.546490e+05      1.000000      0.000000    9302.000000      0.000000\n",
      "50%    7.082130e+05      3.000000      8.000000   88000.000000      1.000000\n",
      "75%    1.001384e+06      6.000000     18.000000  158000.000000      1.000000\n",
      "max    1.009999e+06     12.000000     29.000000  408000.000000      1.000000\n"
     ]
    }
   ],
   "source": [
    "print(df.describe())\n",
    "print(df_new.describe())"
   ]
  },
  {
   "cell_type": "markdown",
   "metadata": {},
   "source": [
    "There seems to be not much difference after removing the missing data.  So we directly delete the missing data."
   ]
  },
  {
   "cell_type": "code",
   "execution_count": 17,
   "metadata": {},
   "outputs": [],
   "source": [
    "df = df_new"
   ]
  },
  {
   "cell_type": "markdown",
   "metadata": {},
   "source": [
    "## 2. Feature Engineering"
   ]
  },
  {
   "cell_type": "markdown",
   "metadata": {},
   "source": [
    "### Compute the time during the person stay in the company in days"
   ]
  },
  {
   "cell_type": "code",
   "execution_count": 18,
   "metadata": {},
   "outputs": [],
   "source": [
    "df[\"duration\"] = pd.to_datetime(df[\"quit_date\"]) - pd.to_datetime(df[\"join_date\"])"
   ]
  },
  {
   "cell_type": "code",
   "execution_count": 19,
   "metadata": {},
   "outputs": [],
   "source": [
    "df[\"duration\"] = df[\"duration\"].dt.days"
   ]
  },
  {
   "cell_type": "code",
   "execution_count": 20,
   "metadata": {},
   "outputs": [
    {
     "data": {
      "text/plain": [
       "Text(0, 0.5, 'Count')"
      ]
     },
     "execution_count": 20,
     "metadata": {},
     "output_type": "execute_result"
    },
    {
     "data": {
      "image/png": "[encoded data removed]",
      "text/plain": [
       "<Figure size 432x288 with 1 Axes>"
      ]
     },
     "metadata": {
      "needs_background": "light"
     },
     "output_type": "display_data"
    }
   ],
   "source": [
    "plt.hist(df[\"duration\"])\n",
    "plt.title(\"The histogram of duration of employees\")\n",
    "plt.xlabel(\"Duration (days)\")\n",
    "plt.ylabel(\"Count\")"
   ]
  },
  {
   "cell_type": "markdown",
   "metadata": {},
   "source": [
    "There are a large portion of employee with duration less than 100 days.  Look into it. "
   ]
  },
  {
   "cell_type": "code",
   "execution_count": 21,
   "metadata": {},
   "outputs": [
    {
     "data": {
      "text/html": [
       "<div>\n",
       "<style scoped>\n",
       "    .dataframe tbody tr th:only-of-type {\n",
       "        vertical-align: middle;\n",
       "    }\n",
       "\n",
       "    .dataframe tbody tr th {\n",
       "        vertical-align: top;\n",
       "    }\n",
       "\n",
       "    .dataframe thead th {\n",
       "        text-align: right;\n",
       "    }\n",
       "</style>\n",
       "<table border=\"1\" class=\"dataframe\">\n",
       "  <thead>\n",
       "    <tr style=\"text-align: right;\">\n",
       "      <th></th>\n",
       "      <th>employee_id</th>\n",
       "      <th>company_id</th>\n",
       "      <th>dept</th>\n",
       "      <th>seniority</th>\n",
       "      <th>salary</th>\n",
       "      <th>join_date</th>\n",
       "      <th>quit_date</th>\n",
       "      <th>leave</th>\n",
       "      <th>duration</th>\n",
       "    </tr>\n",
       "  </thead>\n",
       "  <tbody>\n",
       "    <tr>\n",
       "      <th>0</th>\n",
       "      <td>1001444</td>\n",
       "      <td>8</td>\n",
       "      <td>temp_contractor</td>\n",
       "      <td>0</td>\n",
       "      <td>5850.0</td>\n",
       "      <td>2008-01-26</td>\n",
       "      <td>2008-04-25</td>\n",
       "      <td>1</td>\n",
       "      <td>90</td>\n",
       "    </tr>\n",
       "    <tr>\n",
       "      <th>4</th>\n",
       "      <td>1006393</td>\n",
       "      <td>1</td>\n",
       "      <td>temp_contractor</td>\n",
       "      <td>0</td>\n",
       "      <td>8509.0</td>\n",
       "      <td>2008-07-20</td>\n",
       "      <td>2008-10-18</td>\n",
       "      <td>1</td>\n",
       "      <td>90</td>\n",
       "    </tr>\n",
       "    <tr>\n",
       "      <th>17</th>\n",
       "      <td>1007464</td>\n",
       "      <td>7</td>\n",
       "      <td>temp_contractor</td>\n",
       "      <td>0</td>\n",
       "      <td>7748.0</td>\n",
       "      <td>2009-11-14</td>\n",
       "      <td>2010-02-12</td>\n",
       "      <td>1</td>\n",
       "      <td>90</td>\n",
       "    </tr>\n",
       "    <tr>\n",
       "      <th>18</th>\n",
       "      <td>1002775</td>\n",
       "      <td>3</td>\n",
       "      <td>temp_contractor</td>\n",
       "      <td>0</td>\n",
       "      <td>7424.0</td>\n",
       "      <td>2008-01-14</td>\n",
       "      <td>2008-04-13</td>\n",
       "      <td>1</td>\n",
       "      <td>90</td>\n",
       "    </tr>\n",
       "    <tr>\n",
       "      <th>20</th>\n",
       "      <td>1000103</td>\n",
       "      <td>5</td>\n",
       "      <td>temp_contractor</td>\n",
       "      <td>0</td>\n",
       "      <td>9684.0</td>\n",
       "      <td>2008-05-18</td>\n",
       "      <td>2008-08-16</td>\n",
       "      <td>1</td>\n",
       "      <td>90</td>\n",
       "    </tr>\n",
       "    <tr>\n",
       "      <th>21</th>\n",
       "      <td>34604</td>\n",
       "      <td>2</td>\n",
       "      <td>design</td>\n",
       "      <td>29</td>\n",
       "      <td>224000.0</td>\n",
       "      <td>2015-09-08</td>\n",
       "      <td>2015-12-13</td>\n",
       "      <td>0</td>\n",
       "      <td>96</td>\n",
       "    </tr>\n",
       "    <tr>\n",
       "      <th>22</th>\n",
       "      <td>1008116</td>\n",
       "      <td>4</td>\n",
       "      <td>temp_contractor</td>\n",
       "      <td>0</td>\n",
       "      <td>9865.0</td>\n",
       "      <td>2010-10-03</td>\n",
       "      <td>2011-01-01</td>\n",
       "      <td>1</td>\n",
       "      <td>90</td>\n",
       "    </tr>\n",
       "    <tr>\n",
       "      <th>24</th>\n",
       "      <td>1003092</td>\n",
       "      <td>2</td>\n",
       "      <td>temp_contractor</td>\n",
       "      <td>0</td>\n",
       "      <td>5459.0</td>\n",
       "      <td>2009-09-23</td>\n",
       "      <td>2009-12-22</td>\n",
       "      <td>1</td>\n",
       "      <td>90</td>\n",
       "    </tr>\n",
       "    <tr>\n",
       "      <th>26</th>\n",
       "      <td>1007778</td>\n",
       "      <td>7</td>\n",
       "      <td>temp_contractor</td>\n",
       "      <td>0</td>\n",
       "      <td>6749.0</td>\n",
       "      <td>2007-02-14</td>\n",
       "      <td>2007-05-15</td>\n",
       "      <td>1</td>\n",
       "      <td>90</td>\n",
       "    </tr>\n",
       "    <tr>\n",
       "      <th>33</th>\n",
       "      <td>1006601</td>\n",
       "      <td>8</td>\n",
       "      <td>temp_contractor</td>\n",
       "      <td>0</td>\n",
       "      <td>9051.0</td>\n",
       "      <td>2008-03-11</td>\n",
       "      <td>2008-06-09</td>\n",
       "      <td>1</td>\n",
       "      <td>90</td>\n",
       "    </tr>\n",
       "  </tbody>\n",
       "</table>\n",
       "</div>"
      ],
      "text/plain": [
       "    employee_id  company_id             dept  seniority    salary  join_date  \\\n",
       "0       1001444           8  temp_contractor          0    5850.0 2008-01-26   \n",
       "4       1006393           1  temp_contractor          0    8509.0 2008-07-20   \n",
       "17      1007464           7  temp_contractor          0    7748.0 2009-11-14   \n",
       "18      1002775           3  temp_contractor          0    7424.0 2008-01-14   \n",
       "20      1000103           5  temp_contractor          0    9684.0 2008-05-18   \n",
       "21        34604           2           design         29  224000.0 2015-09-08   \n",
       "22      1008116           4  temp_contractor          0    9865.0 2010-10-03   \n",
       "24      1003092           2  temp_contractor          0    5459.0 2009-09-23   \n",
       "26      1007778           7  temp_contractor          0    6749.0 2007-02-14   \n",
       "33      1006601           8  temp_contractor          0    9051.0 2008-03-11   \n",
       "\n",
       "    quit_date  leave  duration  \n",
       "0  2008-04-25      1        90  \n",
       "4  2008-10-18      1        90  \n",
       "17 2010-02-12      1        90  \n",
       "18 2008-04-13      1        90  \n",
       "20 2008-08-16      1        90  \n",
       "21 2015-12-13      0        96  \n",
       "22 2011-01-01      1        90  \n",
       "24 2009-12-22      1        90  \n",
       "26 2007-05-15      1        90  \n",
       "33 2008-06-09      1        90  "
      ]
     },
     "execution_count": 21,
     "metadata": {},
     "output_type": "execute_result"
    }
   ],
   "source": [
    "df[df[\"duration\"] <= 100].head(10)"
   ]
  },
  {
   "cell_type": "markdown",
   "metadata": {},
   "source": [
    "Most of them are `temp_contractor`. Let's check temp_contractor data."
   ]
  },
  {
   "cell_type": "code",
   "execution_count": 22,
   "metadata": {},
   "outputs": [
    {
     "data": {
      "text/html": [
       "<div>\n",
       "<style scoped>\n",
       "    .dataframe tbody tr th:only-of-type {\n",
       "        vertical-align: middle;\n",
       "    }\n",
       "\n",
       "    .dataframe tbody tr th {\n",
       "        vertical-align: top;\n",
       "    }\n",
       "\n",
       "    .dataframe thead th {\n",
       "        text-align: right;\n",
       "    }\n",
       "</style>\n",
       "<table border=\"1\" class=\"dataframe\">\n",
       "  <thead>\n",
       "    <tr style=\"text-align: right;\">\n",
       "      <th></th>\n",
       "      <th>employee_id</th>\n",
       "      <th>company_id</th>\n",
       "      <th>seniority</th>\n",
       "      <th>salary</th>\n",
       "      <th>leave</th>\n",
       "      <th>duration</th>\n",
       "    </tr>\n",
       "  </thead>\n",
       "  <tbody>\n",
       "    <tr>\n",
       "      <th>count</th>\n",
       "      <td>1.000000e+04</td>\n",
       "      <td>10000.000000</td>\n",
       "      <td>10000.0</td>\n",
       "      <td>10000.000000</td>\n",
       "      <td>10000.0</td>\n",
       "      <td>10000.0</td>\n",
       "    </tr>\n",
       "    <tr>\n",
       "      <th>mean</th>\n",
       "      <td>1.005000e+06</td>\n",
       "      <td>5.496600</td>\n",
       "      <td>0.0</td>\n",
       "      <td>7510.980100</td>\n",
       "      <td>1.0</td>\n",
       "      <td>90.0</td>\n",
       "    </tr>\n",
       "    <tr>\n",
       "      <th>std</th>\n",
       "      <td>2.886896e+03</td>\n",
       "      <td>2.890333</td>\n",
       "      <td>0.0</td>\n",
       "      <td>1439.510641</td>\n",
       "      <td>0.0</td>\n",
       "      <td>0.0</td>\n",
       "    </tr>\n",
       "    <tr>\n",
       "      <th>min</th>\n",
       "      <td>1.000000e+06</td>\n",
       "      <td>1.000000</td>\n",
       "      <td>0.0</td>\n",
       "      <td>5000.000000</td>\n",
       "      <td>1.0</td>\n",
       "      <td>90.0</td>\n",
       "    </tr>\n",
       "    <tr>\n",
       "      <th>25%</th>\n",
       "      <td>1.002500e+06</td>\n",
       "      <td>3.000000</td>\n",
       "      <td>0.0</td>\n",
       "      <td>6278.000000</td>\n",
       "      <td>1.0</td>\n",
       "      <td>90.0</td>\n",
       "    </tr>\n",
       "    <tr>\n",
       "      <th>50%</th>\n",
       "      <td>1.005000e+06</td>\n",
       "      <td>5.000000</td>\n",
       "      <td>0.0</td>\n",
       "      <td>7519.000000</td>\n",
       "      <td>1.0</td>\n",
       "      <td>90.0</td>\n",
       "    </tr>\n",
       "    <tr>\n",
       "      <th>75%</th>\n",
       "      <td>1.007499e+06</td>\n",
       "      <td>8.000000</td>\n",
       "      <td>0.0</td>\n",
       "      <td>8774.000000</td>\n",
       "      <td>1.0</td>\n",
       "      <td>90.0</td>\n",
       "    </tr>\n",
       "    <tr>\n",
       "      <th>max</th>\n",
       "      <td>1.009999e+06</td>\n",
       "      <td>10.000000</td>\n",
       "      <td>0.0</td>\n",
       "      <td>9999.000000</td>\n",
       "      <td>1.0</td>\n",
       "      <td>90.0</td>\n",
       "    </tr>\n",
       "  </tbody>\n",
       "</table>\n",
       "</div>"
      ],
      "text/plain": [
       "        employee_id    company_id  seniority        salary    leave  duration\n",
       "count  1.000000e+04  10000.000000    10000.0  10000.000000  10000.0   10000.0\n",
       "mean   1.005000e+06      5.496600        0.0   7510.980100      1.0      90.0\n",
       "std    2.886896e+03      2.890333        0.0   1439.510641      0.0       0.0\n",
       "min    1.000000e+06      1.000000        0.0   5000.000000      1.0      90.0\n",
       "25%    1.002500e+06      3.000000        0.0   6278.000000      1.0      90.0\n",
       "50%    1.005000e+06      5.000000        0.0   7519.000000      1.0      90.0\n",
       "75%    1.007499e+06      8.000000        0.0   8774.000000      1.0      90.0\n",
       "max    1.009999e+06     10.000000        0.0   9999.000000      1.0      90.0"
      ]
     },
     "execution_count": 22,
     "metadata": {},
     "output_type": "execute_result"
    }
   ],
   "source": [
    "temp_contractor = df[df[\"dept\"] == 'temp_contractor']\n",
    "temp_contractor.describe()"
   ]
  },
  {
   "cell_type": "markdown",
   "metadata": {},
   "source": [
    "### Remove temp_contractor from data set\n",
    "\n",
    "The duration of temp contractor is always 90 days.  We are more concerning about whether full-time employee will leave or not. Including temp contractor data migth skew our dataset. Let's look at their salary to see whether they will cause some bias in our data."
   ]
  },
  {
   "cell_type": "code",
   "execution_count": 23,
   "metadata": {},
   "outputs": [
    {
     "data": {
      "text/plain": [
       "Text(0.5, 1.0, 'Salary of temp_contractor')"
      ]
     },
     "execution_count": 23,
     "metadata": {},
     "output_type": "execute_result"
    },
    {
     "data": {
      "image/png": "[encoded data removed]",
      "text/plain": [
       "<Figure size 432x288 with 1 Axes>"
      ]
     },
     "metadata": {
      "needs_background": "light"
     },
     "output_type": "display_data"
    }
   ],
   "source": [
    "plt.boxplot(temp_contractor[\"salary\"])\n",
    "plt.title(\"Salary of temp_contractor\")\n"
   ]
  },
  {
   "cell_type": "code",
   "execution_count": 33,
   "metadata": {},
   "outputs": [
    {
     "data": {
      "text/plain": [
       "Text(0, 0.5, 'Count')"
      ]
     },
     "execution_count": 33,
     "metadata": {},
     "output_type": "execute_result"
    },
    {
     "data": {
      "image/png": "[encoded data removed]",
      "text/plain": [
       "<Figure size 432x288 with 1 Axes>"
      ]
     },
     "metadata": {
      "needs_background": "light"
     },
     "output_type": "display_data"
    }
   ],
   "source": [
    "plt.hist(df[\"salary\"])\n",
    "plt.title(\"Histogram of salary including temp_contractor salary\")\n",
    "plt.xlabel(\"Salary\")\n",
    "plt.ylabel(\"Count\")"
   ]
  },
  {
   "cell_type": "markdown",
   "metadata": {},
   "source": [
    "Let's remove temp contractor from our data."
   ]
  },
  {
   "cell_type": "code",
   "execution_count": 24,
   "metadata": {},
   "outputs": [],
   "source": [
    "df = df[df[\"dept\"] != \"temp_contractor\"]"
   ]
  },
  {
   "cell_type": "code",
   "execution_count": 25,
   "metadata": {},
   "outputs": [
    {
     "data": {
      "text/plain": [
       "Text(0, 0.5, 'Count')"
      ]
     },
     "execution_count": 25,
     "metadata": {},
     "output_type": "execute_result"
    },
    {
     "data": {
      "image/png": "[encoded data removed]",
      "text/plain": [
       "<Figure size 432x288 with 1 Axes>"
      ]
     },
     "metadata": {
      "needs_background": "light"
     },
     "output_type": "display_data"
    }
   ],
   "source": [
    "plt.hist(df[\"salary\"])\n",
    "plt.title(\"Histogram of salary after removing temp_contractor\")\n",
    "plt.xlabel(\"Salary\")\n",
    "plt.ylabel(\"Count\")"
   ]
  },
  {
   "cell_type": "markdown",
   "metadata": {},
   "source": [
    "The skewness of the data is better after we removed temp_contractor.  "
   ]
  },
  {
   "cell_type": "code",
   "execution_count": 36,
   "metadata": {},
   "outputs": [
    {
     "data": {
      "text/plain": [
       "1    13377\n",
       "0    11084\n",
       "Name: leave, dtype: int64"
      ]
     },
     "execution_count": 36,
     "metadata": {},
     "output_type": "execute_result"
    }
   ],
   "source": [
    "df[\"leave\"].value_counts()"
   ]
  },
  {
   "cell_type": "markdown",
   "metadata": {},
   "source": [
    "After removing temp contractor, the number of employee leave and not leave is more balanced."
   ]
  },
  {
   "cell_type": "markdown",
   "metadata": {},
   "source": [
    "## 3. Exploratory Data Analysis"
   ]
  },
  {
   "cell_type": "markdown",
   "metadata": {},
   "source": [
    "Draw the distribution of `salary`, `duration`, `seniority` to see whether there is difference between people who stayed and people who left."
   ]
  },
  {
   "cell_type": "code",
   "execution_count": 26,
   "metadata": {},
   "outputs": [],
   "source": [
    "stay_df = df[df[\"leave\"] == 0]\n",
    "leave_df = df[df[\"leave\"] == 1]"
   ]
  },
  {
   "cell_type": "code",
   "execution_count": 57,
   "metadata": {},
   "outputs": [
    {
     "data": {
      "text/plain": [
       "<matplotlib.legend.Legend at 0x1a19ef92b0>"
      ]
     },
     "execution_count": 57,
     "metadata": {},
     "output_type": "execute_result"
    },
    {
     "data": {
      "image/png": "[encoded data removed]",
      "text/plain": [
       "<Figure size 432x288 with 1 Axes>"
      ]
     },
     "metadata": {
      "needs_background": "light"
     },
     "output_type": "display_data"
    }
   ],
   "source": [
    "plt.hist(stay_df[\"salary\"], bins=50, alpha=0.5, label='stay')\n",
    "plt.hist(leave_df[\"salary\"], bins=50, alpha=0.5, label='leave')\n",
    "plt.xlabel(\"salary\")\n",
    "plt.ylabel(\"count\")\n",
    "plt.title(\"Histogram of the salary of employees\")\n",
    "plt.legend(loc=\"upper right\")"
   ]
  },
  {
   "cell_type": "code",
   "execution_count": 63,
   "metadata": {},
   "outputs": [
    {
     "data": {
      "text/plain": [
       "<matplotlib.legend.Legend at 0x1a1a9449b0>"
      ]
     },
     "execution_count": 63,
     "metadata": {},
     "output_type": "execute_result"
    },
    {
     "data": {
      "image/png": "[encoded data removed]",
      "text/plain": [
       "<Figure size 432x288 with 1 Axes>"
      ]
     },
     "metadata": {
      "needs_background": "light"
     },
     "output_type": "display_data"
    }
   ],
   "source": [
    "plt.hist(stay_df[\"duration\"], bins=50, alpha=0.5, label='stay')\n",
    "plt.hist(leave_df[\"duration\"], bins=50, alpha=0.5, label='leave')\n",
    "plt.xlabel(\"Stay time of employee (days)\")\n",
    "plt.ylabel(\"count\")\n",
    "plt.title(\"Histogram of the stay time of employees\")\n",
    "plt.legend(loc=\"upper right\")"
   ]
  },
  {
   "cell_type": "markdown",
   "metadata": {},
   "source": [
    "The distributions of stay time of employees differ a lot between employees who stayed and employees who left."
   ]
  },
  {
   "cell_type": "code",
   "execution_count": 61,
   "metadata": {},
   "outputs": [
    {
     "data": {
      "text/plain": [
       "<matplotlib.legend.Legend at 0x1a1a68c748>"
      ]
     },
     "execution_count": 61,
     "metadata": {},
     "output_type": "execute_result"
    },
    {
     "data": {
      "image/png": "[encoded data removed]",
      "text/plain": [
       "<Figure size 432x288 with 1 Axes>"
      ]
     },
     "metadata": {
      "needs_background": "light"
     },
     "output_type": "display_data"
    }
   ],
   "source": [
    "plt.hist(stay_df[\"seniority\"], alpha=0.5, label='stay')\n",
    "plt.hist(leave_df[\"seniority\"], alpha=0.5, label='leave')\n",
    "plt.xlabel(\"seniority (years)\")\n",
    "plt.ylabel(\"count\")\n",
    "plt.title(\"Histogram of the seniority of employees\")\n",
    "plt.legend(loc=\"upper right\")"
   ]
  },
  {
   "cell_type": "code",
   "execution_count": 40,
   "metadata": {},
   "outputs": [
    {
     "data": {
      "text/plain": [
       "Index(['employee_id', 'company_id', 'dept', 'seniority', 'salary', 'join_date',\n",
       "       'quit_date', 'leave', 'duration'],\n",
       "      dtype='object')"
      ]
     },
     "execution_count": 40,
     "metadata": {},
     "output_type": "execute_result"
    }
   ],
   "source": [
    "df.columns"
   ]
  },
  {
   "cell_type": "markdown",
   "metadata": {},
   "source": [
    "### T-test to compare the mean of the three factors between people staying and people leaving.\n",
    "There are two groups, one is people staying in the company, the other is people that left the company. The null hypothesis is there is no difference of stay time / salary / seniority between these two groups."
   ]
  },
  {
   "cell_type": "code",
   "execution_count": 35,
   "metadata": {},
   "outputs": [
    {
     "name": "stdout",
     "output_type": "stream",
     "text": [
      "t-statistics of stay time is -18.65. p-value is 4.424981149883956e-77\n",
      "t-statistics of salary is 5.61. p-value is 2.0201063867658888e-08\n",
      "t-statistics of seniority is -0.06. p-value is 0.9517660916210183\n"
     ]
    }
   ],
   "source": [
    "from scipy import stats\n",
    "t_duration, p_duration = stats.ttest_ind(stay_df[\"duration\"], leave_df[\"duration\"])\n",
    "t_salary, p_salary = stats.ttest_ind(stay_df[\"salary\"], leave_df[\"salary\"])\n",
    "t_seniority, p_seniority = stats.ttest_ind(stay_df[\"seniority\"], leave_df[\"seniority\"])\n",
    "\n",
    "print(\"t-statistics of stay time is {:.2f}. p-value is {}\".format(t_duration, p_duration))\n",
    "print(\"t-statistics of salary is {:.2f}. p-value is {}\".format(t_salary, p_salary))\n",
    "print(\"t-statistics of seniority is {:.2f}. p-value is {}\".format(t_seniority, p_seniority))"
   ]
  },
  {
   "cell_type": "markdown",
   "metadata": {},
   "source": [
    "If we set the threshold to be 0.05, we can reject the null hyposis for `stay_time` and `salary` with confidence but not `seniority`.  `stay_time` have more difference between two groups. "
   ]
  },
  {
   "cell_type": "markdown",
   "metadata": {},
   "source": [
    "### Survey whether different company contains different ratio of leaving"
   ]
  },
  {
   "cell_type": "code",
   "execution_count": 41,
   "metadata": {},
   "outputs": [
    {
     "data": {
      "text/plain": [
       "Text(0.5, 1.0, 'The leaving ratio of different companies')"
      ]
     },
     "execution_count": 41,
     "metadata": {},
     "output_type": "execute_result"
    },
    {
     "data": {
      "image/png": "[encoded data removed]",
      "text/plain": [
       "<Figure size 432x288 with 1 Axes>"
      ]
     },
     "metadata": {
      "needs_background": "light"
     },
     "output_type": "display_data"
    }
   ],
   "source": [
    "groupby_company = df.groupby(by=[\"company_id\", \"leave\"])[\"employee_id\"].count().unstack()\n",
    "groupby_company[\"leave_ratio\"] = groupby_company[1] / (groupby_company[0] + groupby_company[1])\n",
    "groupby_company[\"leave_ratio\"].plot.bar()\n",
    "plt.xlabel(\"Company ID\")\n",
    "plt.ylabel(\"Leaving ratio\")\n",
    "plt.title(\"The leaving ratio of different companies\")\n"
   ]
  },
  {
   "cell_type": "markdown",
   "metadata": {},
   "source": [
    "The leaving ratio of company 11 is much higher.  Let's take a look. \n"
   ]
  },
  {
   "cell_type": "code",
   "execution_count": 42,
   "metadata": {},
   "outputs": [
    {
     "data": {
      "text/html": [
       "<div>\n",
       "<style scoped>\n",
       "    .dataframe tbody tr th:only-of-type {\n",
       "        vertical-align: middle;\n",
       "    }\n",
       "\n",
       "    .dataframe tbody tr th {\n",
       "        vertical-align: top;\n",
       "    }\n",
       "\n",
       "    .dataframe thead th {\n",
       "        text-align: right;\n",
       "    }\n",
       "</style>\n",
       "<table border=\"1\" class=\"dataframe\">\n",
       "  <thead>\n",
       "    <tr style=\"text-align: right;\">\n",
       "      <th>leave</th>\n",
       "      <th>0</th>\n",
       "      <th>1</th>\n",
       "      <th>leave_ratio</th>\n",
       "    </tr>\n",
       "    <tr>\n",
       "      <th>company_id</th>\n",
       "      <th></th>\n",
       "      <th></th>\n",
       "      <th></th>\n",
       "    </tr>\n",
       "  </thead>\n",
       "  <tbody>\n",
       "    <tr>\n",
       "      <th>1</th>\n",
       "      <td>3826</td>\n",
       "      <td>4581</td>\n",
       "      <td>0.544903</td>\n",
       "    </tr>\n",
       "    <tr>\n",
       "      <th>2</th>\n",
       "      <td>1999</td>\n",
       "      <td>2181</td>\n",
       "      <td>0.521770</td>\n",
       "    </tr>\n",
       "    <tr>\n",
       "      <th>3</th>\n",
       "      <td>1205</td>\n",
       "      <td>1519</td>\n",
       "      <td>0.557636</td>\n",
       "    </tr>\n",
       "    <tr>\n",
       "      <th>4</th>\n",
       "      <td>900</td>\n",
       "      <td>1142</td>\n",
       "      <td>0.559256</td>\n",
       "    </tr>\n",
       "    <tr>\n",
       "      <th>5</th>\n",
       "      <td>764</td>\n",
       "      <td>976</td>\n",
       "      <td>0.560920</td>\n",
       "    </tr>\n",
       "    <tr>\n",
       "      <th>6</th>\n",
       "      <td>573</td>\n",
       "      <td>703</td>\n",
       "      <td>0.550940</td>\n",
       "    </tr>\n",
       "    <tr>\n",
       "      <th>7</th>\n",
       "      <td>526</td>\n",
       "      <td>683</td>\n",
       "      <td>0.564930</td>\n",
       "    </tr>\n",
       "    <tr>\n",
       "      <th>8</th>\n",
       "      <td>464</td>\n",
       "      <td>568</td>\n",
       "      <td>0.550388</td>\n",
       "    </tr>\n",
       "    <tr>\n",
       "      <th>9</th>\n",
       "      <td>430</td>\n",
       "      <td>524</td>\n",
       "      <td>0.549266</td>\n",
       "    </tr>\n",
       "    <tr>\n",
       "      <th>10</th>\n",
       "      <td>382</td>\n",
       "      <td>476</td>\n",
       "      <td>0.554779</td>\n",
       "    </tr>\n",
       "    <tr>\n",
       "      <th>11</th>\n",
       "      <td>4</td>\n",
       "      <td>12</td>\n",
       "      <td>0.750000</td>\n",
       "    </tr>\n",
       "    <tr>\n",
       "      <th>12</th>\n",
       "      <td>11</td>\n",
       "      <td>12</td>\n",
       "      <td>0.521739</td>\n",
       "    </tr>\n",
       "  </tbody>\n",
       "</table>\n",
       "</div>"
      ],
      "text/plain": [
       "leave          0     1  leave_ratio\n",
       "company_id                         \n",
       "1           3826  4581     0.544903\n",
       "2           1999  2181     0.521770\n",
       "3           1205  1519     0.557636\n",
       "4            900  1142     0.559256\n",
       "5            764   976     0.560920\n",
       "6            573   703     0.550940\n",
       "7            526   683     0.564930\n",
       "8            464   568     0.550388\n",
       "9            430   524     0.549266\n",
       "10           382   476     0.554779\n",
       "11             4    12     0.750000\n",
       "12            11    12     0.521739"
      ]
     },
     "execution_count": 42,
     "metadata": {},
     "output_type": "execute_result"
    }
   ],
   "source": [
    "groupby_company"
   ]
  },
  {
   "cell_type": "markdown",
   "metadata": {},
   "source": [
    "Company 11 and 12 contains much less samples. They don't contain enough data to derive statistic significant conclusion. Let's remove these data for now. "
   ]
  },
  {
   "cell_type": "code",
   "execution_count": 43,
   "metadata": {},
   "outputs": [],
   "source": [
    "df = df[(df[\"company_id\"] != 11) & (df[\"company_id\"] != 12)]"
   ]
  },
  {
   "cell_type": "markdown",
   "metadata": {},
   "source": [
    "### Check the leaving ratio of different department"
   ]
  },
  {
   "cell_type": "code",
   "execution_count": 44,
   "metadata": {},
   "outputs": [],
   "source": [
    "groupby_dept = df.groupby(by=['dept', \"leave\"])[\"employee_id\"].count().unstack()"
   ]
  },
  {
   "cell_type": "code",
   "execution_count": 45,
   "metadata": {},
   "outputs": [
    {
     "data": {
      "text/plain": [
       "Text(0.5, 1.0, 'The leaving ratio of different department')"
      ]
     },
     "execution_count": 45,
     "metadata": {},
     "output_type": "execute_result"
    },
    {
     "data": {
      "image/png": "[encoded data removed]",
      "text/plain": [
       "<Figure size 432x288 with 1 Axes>"
      ]
     },
     "metadata": {
      "needs_background": "light"
     },
     "output_type": "display_data"
    }
   ],
   "source": [
    "groupby_dept[\"leave_ratio\"] = groupby_dept[1] / (groupby_dept[0] + groupby_dept[1])\n",
    "groupby_dept[\"leave_ratio\"].plot.bar()\n",
    "plt.xlabel(\"Department\", fontsize =14)\n",
    "plt.ylabel(\"Leaving ratio\", fontsize =14)\n",
    "plt.xticks(fontsize=14)\n",
    "plt.title(\"The leaving ratio of different department\", fontsize =14)"
   ]
  },
  {
   "cell_type": "markdown",
   "metadata": {},
   "source": [
    "Let's see the leaving ratio with same company and department.\n"
   ]
  },
  {
   "cell_type": "code",
   "execution_count": 46,
   "metadata": {},
   "outputs": [],
   "source": [
    "df_leave = df[df[\"leave\"] == 1]"
   ]
  },
  {
   "cell_type": "code",
   "execution_count": 47,
   "metadata": {},
   "outputs": [
    {
     "data": {
      "text/html": [
       "<div>\n",
       "<style scoped>\n",
       "    .dataframe tbody tr th:only-of-type {\n",
       "        vertical-align: middle;\n",
       "    }\n",
       "\n",
       "    .dataframe tbody tr th {\n",
       "        vertical-align: top;\n",
       "    }\n",
       "\n",
       "    .dataframe thead th {\n",
       "        text-align: right;\n",
       "    }\n",
       "</style>\n",
       "<table border=\"1\" class=\"dataframe\">\n",
       "  <thead>\n",
       "    <tr style=\"text-align: right;\">\n",
       "      <th>dept</th>\n",
       "      <th>customer_service</th>\n",
       "      <th>data_science</th>\n",
       "      <th>design</th>\n",
       "      <th>engineer</th>\n",
       "      <th>marketing</th>\n",
       "      <th>sales</th>\n",
       "    </tr>\n",
       "    <tr>\n",
       "      <th>company_id</th>\n",
       "      <th></th>\n",
       "      <th></th>\n",
       "      <th></th>\n",
       "      <th></th>\n",
       "      <th></th>\n",
       "      <th></th>\n",
       "    </tr>\n",
       "  </thead>\n",
       "  <tbody>\n",
       "    <tr>\n",
       "      <th>1</th>\n",
       "      <td>1791</td>\n",
       "      <td>562</td>\n",
       "      <td>265</td>\n",
       "      <td>738</td>\n",
       "      <td>613</td>\n",
       "      <td>612</td>\n",
       "    </tr>\n",
       "    <tr>\n",
       "      <th>2</th>\n",
       "      <td>828</td>\n",
       "      <td>265</td>\n",
       "      <td>126</td>\n",
       "      <td>380</td>\n",
       "      <td>291</td>\n",
       "      <td>291</td>\n",
       "    </tr>\n",
       "    <tr>\n",
       "      <th>3</th>\n",
       "      <td>538</td>\n",
       "      <td>193</td>\n",
       "      <td>81</td>\n",
       "      <td>291</td>\n",
       "      <td>213</td>\n",
       "      <td>203</td>\n",
       "    </tr>\n",
       "    <tr>\n",
       "      <th>4</th>\n",
       "      <td>412</td>\n",
       "      <td>159</td>\n",
       "      <td>60</td>\n",
       "      <td>208</td>\n",
       "      <td>153</td>\n",
       "      <td>150</td>\n",
       "    </tr>\n",
       "    <tr>\n",
       "      <th>5</th>\n",
       "      <td>353</td>\n",
       "      <td>113</td>\n",
       "      <td>70</td>\n",
       "      <td>178</td>\n",
       "      <td>114</td>\n",
       "      <td>148</td>\n",
       "    </tr>\n",
       "  </tbody>\n",
       "</table>\n",
       "</div>"
      ],
      "text/plain": [
       "dept        customer_service  data_science  design  engineer  marketing  sales\n",
       "company_id                                                                    \n",
       "1                       1791           562     265       738        613    612\n",
       "2                        828           265     126       380        291    291\n",
       "3                        538           193      81       291        213    203\n",
       "4                        412           159      60       208        153    150\n",
       "5                        353           113      70       178        114    148"
      ]
     },
     "execution_count": 47,
     "metadata": {},
     "output_type": "execute_result"
    }
   ],
   "source": [
    "df_leave_groupby_company_dept = df_leave.groupby(by=['company_id', 'dept'])[\"employee_id\"].count().unstack()\n",
    "df_leave_groupby_company_dept.head()"
   ]
  },
  {
   "cell_type": "code",
   "execution_count": 48,
   "metadata": {},
   "outputs": [],
   "source": [
    "groupby_company_dept = df.groupby(by=['company_id', 'dept'])[\"employee_id\"].count().unstack()"
   ]
  },
  {
   "cell_type": "code",
   "execution_count": 109,
   "metadata": {},
   "outputs": [
    {
     "data": {
      "text/html": [
       "<div>\n",
       "<style scoped>\n",
       "    .dataframe tbody tr th:only-of-type {\n",
       "        vertical-align: middle;\n",
       "    }\n",
       "\n",
       "    .dataframe tbody tr th {\n",
       "        vertical-align: top;\n",
       "    }\n",
       "\n",
       "    .dataframe thead th {\n",
       "        text-align: right;\n",
       "    }\n",
       "</style>\n",
       "<table border=\"1\" class=\"dataframe\">\n",
       "  <thead>\n",
       "    <tr style=\"text-align: right;\">\n",
       "      <th>dept</th>\n",
       "      <th>customer_service</th>\n",
       "      <th>data_science</th>\n",
       "      <th>design</th>\n",
       "      <th>engineer</th>\n",
       "      <th>marketing</th>\n",
       "      <th>sales</th>\n",
       "    </tr>\n",
       "    <tr>\n",
       "      <th>company_id</th>\n",
       "      <th></th>\n",
       "      <th></th>\n",
       "      <th></th>\n",
       "      <th></th>\n",
       "      <th></th>\n",
       "      <th></th>\n",
       "    </tr>\n",
       "  </thead>\n",
       "  <tbody>\n",
       "    <tr>\n",
       "      <th>1</th>\n",
       "      <td>3129</td>\n",
       "      <td>1070</td>\n",
       "      <td>491</td>\n",
       "      <td>1552</td>\n",
       "      <td>1074</td>\n",
       "      <td>1091</td>\n",
       "    </tr>\n",
       "    <tr>\n",
       "      <th>2</th>\n",
       "      <td>1530</td>\n",
       "      <td>562</td>\n",
       "      <td>223</td>\n",
       "      <td>822</td>\n",
       "      <td>535</td>\n",
       "      <td>508</td>\n",
       "    </tr>\n",
       "    <tr>\n",
       "      <th>3</th>\n",
       "      <td>1000</td>\n",
       "      <td>345</td>\n",
       "      <td>141</td>\n",
       "      <td>512</td>\n",
       "      <td>367</td>\n",
       "      <td>359</td>\n",
       "    </tr>\n",
       "    <tr>\n",
       "      <th>4</th>\n",
       "      <td>769</td>\n",
       "      <td>277</td>\n",
       "      <td>106</td>\n",
       "      <td>375</td>\n",
       "      <td>263</td>\n",
       "      <td>252</td>\n",
       "    </tr>\n",
       "    <tr>\n",
       "      <th>5</th>\n",
       "      <td>631</td>\n",
       "      <td>213</td>\n",
       "      <td>107</td>\n",
       "      <td>311</td>\n",
       "      <td>224</td>\n",
       "      <td>254</td>\n",
       "    </tr>\n",
       "  </tbody>\n",
       "</table>\n",
       "</div>"
      ],
      "text/plain": [
       "dept        customer_service  data_science  design  engineer  marketing  sales\n",
       "company_id                                                                    \n",
       "1                       3129          1070     491      1552       1074   1091\n",
       "2                       1530           562     223       822        535    508\n",
       "3                       1000           345     141       512        367    359\n",
       "4                        769           277     106       375        263    252\n",
       "5                        631           213     107       311        224    254"
      ]
     },
     "execution_count": 109,
     "metadata": {},
     "output_type": "execute_result"
    }
   ],
   "source": [
    "groupby_company_dept.head()"
   ]
  },
  {
   "cell_type": "code",
   "execution_count": 110,
   "metadata": {},
   "outputs": [],
   "source": [
    "leave_ratio_grouped = df_leave_groupby_company_dept / groupby_company_dept"
   ]
  },
  {
   "cell_type": "code",
   "execution_count": 111,
   "metadata": {},
   "outputs": [
    {
     "data": {
      "text/html": [
       "<div>\n",
       "<style scoped>\n",
       "    .dataframe tbody tr th:only-of-type {\n",
       "        vertical-align: middle;\n",
       "    }\n",
       "\n",
       "    .dataframe tbody tr th {\n",
       "        vertical-align: top;\n",
       "    }\n",
       "\n",
       "    .dataframe thead th {\n",
       "        text-align: right;\n",
       "    }\n",
       "</style>\n",
       "<table border=\"1\" class=\"dataframe\">\n",
       "  <thead>\n",
       "    <tr style=\"text-align: right;\">\n",
       "      <th>dept</th>\n",
       "      <th>customer_service</th>\n",
       "      <th>data_science</th>\n",
       "      <th>design</th>\n",
       "      <th>engineer</th>\n",
       "      <th>marketing</th>\n",
       "      <th>sales</th>\n",
       "    </tr>\n",
       "    <tr>\n",
       "      <th>company_id</th>\n",
       "      <th></th>\n",
       "      <th></th>\n",
       "      <th></th>\n",
       "      <th></th>\n",
       "      <th></th>\n",
       "      <th></th>\n",
       "    </tr>\n",
       "  </thead>\n",
       "  <tbody>\n",
       "    <tr>\n",
       "      <th>1</th>\n",
       "      <td>0.572387</td>\n",
       "      <td>0.525234</td>\n",
       "      <td>0.539715</td>\n",
       "      <td>0.475515</td>\n",
       "      <td>0.570764</td>\n",
       "      <td>0.560953</td>\n",
       "    </tr>\n",
       "    <tr>\n",
       "      <th>2</th>\n",
       "      <td>0.541176</td>\n",
       "      <td>0.471530</td>\n",
       "      <td>0.565022</td>\n",
       "      <td>0.462287</td>\n",
       "      <td>0.543925</td>\n",
       "      <td>0.572835</td>\n",
       "    </tr>\n",
       "    <tr>\n",
       "      <th>3</th>\n",
       "      <td>0.538000</td>\n",
       "      <td>0.559420</td>\n",
       "      <td>0.574468</td>\n",
       "      <td>0.568359</td>\n",
       "      <td>0.580381</td>\n",
       "      <td>0.565460</td>\n",
       "    </tr>\n",
       "    <tr>\n",
       "      <th>4</th>\n",
       "      <td>0.535761</td>\n",
       "      <td>0.574007</td>\n",
       "      <td>0.566038</td>\n",
       "      <td>0.554667</td>\n",
       "      <td>0.581749</td>\n",
       "      <td>0.595238</td>\n",
       "    </tr>\n",
       "    <tr>\n",
       "      <th>5</th>\n",
       "      <td>0.559429</td>\n",
       "      <td>0.530516</td>\n",
       "      <td>0.654206</td>\n",
       "      <td>0.572347</td>\n",
       "      <td>0.508929</td>\n",
       "      <td>0.582677</td>\n",
       "    </tr>\n",
       "  </tbody>\n",
       "</table>\n",
       "</div>"
      ],
      "text/plain": [
       "dept        customer_service  data_science    design  engineer  marketing  \\\n",
       "company_id                                                                  \n",
       "1                   0.572387      0.525234  0.539715  0.475515   0.570764   \n",
       "2                   0.541176      0.471530  0.565022  0.462287   0.543925   \n",
       "3                   0.538000      0.559420  0.574468  0.568359   0.580381   \n",
       "4                   0.535761      0.574007  0.566038  0.554667   0.581749   \n",
       "5                   0.559429      0.530516  0.654206  0.572347   0.508929   \n",
       "\n",
       "dept           sales  \n",
       "company_id            \n",
       "1           0.560953  \n",
       "2           0.572835  \n",
       "3           0.565460  \n",
       "4           0.595238  \n",
       "5           0.582677  "
      ]
     },
     "execution_count": 111,
     "metadata": {},
     "output_type": "execute_result"
    }
   ],
   "source": [
    "leave_ratio_grouped.head()"
   ]
  },
  {
   "cell_type": "markdown",
   "metadata": {},
   "source": [
    "### Heatmap of leaving ratio across different company and department\n",
    "The lighter the color is, the higher the leaving ratio is. Each cell of the heatmap corresonding to one company and one department. If the colors are similar across cells, there is no significant difference across different company and department. "
   ]
  },
  {
   "cell_type": "code",
   "execution_count": 113,
   "metadata": {},
   "outputs": [
    {
     "data": {
      "text/plain": [
       "Text(0.5, 1.0, 'Heatmap of leave ratio of different company and department')"
      ]
     },
     "execution_count": 113,
     "metadata": {},
     "output_type": "execute_result"
    },
    {
     "data": {
      "image/png": "[encoded data removed]",
      "text/plain": [
       "<Figure size 432x288 with 2 Axes>"
      ]
     },
     "metadata": {},
     "output_type": "display_data"
    }
   ],
   "source": [
    "import seaborn as sns; \n",
    "sns.set()\n",
    "ax = sns.heatmap(leave_ratio_grouped, vmin=0, vmax=1)\n",
    "ax.set_title(\"Heatmap of leave ratio of different company and department\")\n"
   ]
  },
  {
   "cell_type": "markdown",
   "metadata": {},
   "source": [
    "It seems that there is no significant difference between the leaving ratio of different company and different department. So we will build the prediction model for all data."
   ]
  },
  {
   "cell_type": "markdown",
   "metadata": {},
   "source": [
    "## 4. Building the prediction model\n",
    "Building the prediction model based on the three features: `seniority`, `salary`, `duration`\n",
    "Labels: leave"
   ]
  },
  {
   "cell_type": "code",
   "execution_count": 72,
   "metadata": {},
   "outputs": [],
   "source": [
    "X = df[['company_id', 'dept', 'seniority', 'salary', 'duration']]\n",
    "y = df['leave']"
   ]
  },
  {
   "cell_type": "code",
   "execution_count": 73,
   "metadata": {},
   "outputs": [
    {
     "data": {
      "text/html": [
       "<div>\n",
       "<style scoped>\n",
       "    .dataframe tbody tr th:only-of-type {\n",
       "        vertical-align: middle;\n",
       "    }\n",
       "\n",
       "    .dataframe tbody tr th {\n",
       "        vertical-align: top;\n",
       "    }\n",
       "\n",
       "    .dataframe thead th {\n",
       "        text-align: right;\n",
       "    }\n",
       "</style>\n",
       "<table border=\"1\" class=\"dataframe\">\n",
       "  <thead>\n",
       "    <tr style=\"text-align: right;\">\n",
       "      <th></th>\n",
       "      <th>company_id</th>\n",
       "      <th>dept</th>\n",
       "      <th>seniority</th>\n",
       "      <th>salary</th>\n",
       "      <th>duration</th>\n",
       "    </tr>\n",
       "  </thead>\n",
       "  <tbody>\n",
       "    <tr>\n",
       "      <th>1</th>\n",
       "      <td>8</td>\n",
       "      <td>design</td>\n",
       "      <td>21</td>\n",
       "      <td>191000.0</td>\n",
       "      <td>304</td>\n",
       "    </tr>\n",
       "    <tr>\n",
       "      <th>2</th>\n",
       "      <td>3</td>\n",
       "      <td>design</td>\n",
       "      <td>9</td>\n",
       "      <td>90000.0</td>\n",
       "      <td>1110</td>\n",
       "    </tr>\n",
       "    <tr>\n",
       "      <th>3</th>\n",
       "      <td>2</td>\n",
       "      <td>engineer</td>\n",
       "      <td>20</td>\n",
       "      <td>298000.0</td>\n",
       "      <td>662</td>\n",
       "    </tr>\n",
       "    <tr>\n",
       "      <th>5</th>\n",
       "      <td>5</td>\n",
       "      <td>marketing</td>\n",
       "      <td>20</td>\n",
       "      <td>180000.0</td>\n",
       "      <td>531</td>\n",
       "    </tr>\n",
       "    <tr>\n",
       "      <th>6</th>\n",
       "      <td>3</td>\n",
       "      <td>customer_service</td>\n",
       "      <td>18</td>\n",
       "      <td>119000.0</td>\n",
       "      <td>634</td>\n",
       "    </tr>\n",
       "  </tbody>\n",
       "</table>\n",
       "</div>"
      ],
      "text/plain": [
       "   company_id              dept  seniority    salary  duration\n",
       "1           8            design         21  191000.0       304\n",
       "2           3            design          9   90000.0      1110\n",
       "3           2          engineer         20  298000.0       662\n",
       "5           5         marketing         20  180000.0       531\n",
       "6           3  customer_service         18  119000.0       634"
      ]
     },
     "execution_count": 73,
     "metadata": {},
     "output_type": "execute_result"
    }
   ],
   "source": [
    "X.head()"
   ]
  },
  {
   "cell_type": "markdown",
   "metadata": {},
   "source": [
    "### One hot coding category columsn and split the training data and test data"
   ]
  },
  {
   "cell_type": "code",
   "execution_count": 74,
   "metadata": {},
   "outputs": [],
   "source": [
    "from sklearn.model_selection import train_test_split\n",
    "from sklearn.linear_model import LogisticRegression\n",
    "from sklearn.ensemble import RandomForestClassifier\n",
    "from sklearn.model_selection import GridSearchCV"
   ]
  },
  {
   "cell_type": "code",
   "execution_count": 75,
   "metadata": {
    "scrolled": true
   },
   "outputs": [
    {
     "name": "stderr",
     "output_type": "stream",
     "text": [
      "/anaconda3/lib/python3.7/site-packages/pandas/core/indexing.py:543: SettingWithCopyWarning: \n",
      "A value is trying to be set on a copy of a slice from a DataFrame.\n",
      "Try using .loc[row_indexer,col_indexer] = value instead\n",
      "\n",
      "See the caveats in the documentation: http://pandas.pydata.org/pandas-docs/stable/indexing.html#indexing-view-versus-copy\n",
      "  self.obj[item] = s\n"
     ]
    }
   ],
   "source": [
    "X.loc[:, 'company_id'] = X.loc[:, 'company_id'].astype('category')"
   ]
  },
  {
   "cell_type": "code",
   "execution_count": 76,
   "metadata": {},
   "outputs": [],
   "source": [
    "X = pd.get_dummies(X, columns=['company_id', 'dept'])"
   ]
  },
  {
   "cell_type": "code",
   "execution_count": 168,
   "metadata": {},
   "outputs": [
    {
     "data": {
      "text/html": [
       "<div>\n",
       "<style scoped>\n",
       "    .dataframe tbody tr th:only-of-type {\n",
       "        vertical-align: middle;\n",
       "    }\n",
       "\n",
       "    .dataframe tbody tr th {\n",
       "        vertical-align: top;\n",
       "    }\n",
       "\n",
       "    .dataframe thead th {\n",
       "        text-align: right;\n",
       "    }\n",
       "</style>\n",
       "<table border=\"1\" class=\"dataframe\">\n",
       "  <thead>\n",
       "    <tr style=\"text-align: right;\">\n",
       "      <th></th>\n",
       "      <th>seniority</th>\n",
       "      <th>salary</th>\n",
       "      <th>duration</th>\n",
       "      <th>company_id_1</th>\n",
       "      <th>company_id_2</th>\n",
       "      <th>company_id_3</th>\n",
       "      <th>company_id_4</th>\n",
       "      <th>company_id_5</th>\n",
       "      <th>company_id_6</th>\n",
       "      <th>company_id_7</th>\n",
       "      <th>company_id_8</th>\n",
       "      <th>company_id_9</th>\n",
       "      <th>company_id_10</th>\n",
       "      <th>dept_customer_service</th>\n",
       "      <th>dept_data_science</th>\n",
       "      <th>dept_design</th>\n",
       "      <th>dept_engineer</th>\n",
       "      <th>dept_marketing</th>\n",
       "      <th>dept_sales</th>\n",
       "    </tr>\n",
       "  </thead>\n",
       "  <tbody>\n",
       "    <tr>\n",
       "      <th>1</th>\n",
       "      <td>21</td>\n",
       "      <td>191000.0</td>\n",
       "      <td>304</td>\n",
       "      <td>0</td>\n",
       "      <td>0</td>\n",
       "      <td>0</td>\n",
       "      <td>0</td>\n",
       "      <td>0</td>\n",
       "      <td>0</td>\n",
       "      <td>0</td>\n",
       "      <td>1</td>\n",
       "      <td>0</td>\n",
       "      <td>0</td>\n",
       "      <td>0</td>\n",
       "      <td>0</td>\n",
       "      <td>1</td>\n",
       "      <td>0</td>\n",
       "      <td>0</td>\n",
       "      <td>0</td>\n",
       "    </tr>\n",
       "    <tr>\n",
       "      <th>2</th>\n",
       "      <td>9</td>\n",
       "      <td>90000.0</td>\n",
       "      <td>1110</td>\n",
       "      <td>0</td>\n",
       "      <td>0</td>\n",
       "      <td>1</td>\n",
       "      <td>0</td>\n",
       "      <td>0</td>\n",
       "      <td>0</td>\n",
       "      <td>0</td>\n",
       "      <td>0</td>\n",
       "      <td>0</td>\n",
       "      <td>0</td>\n",
       "      <td>0</td>\n",
       "      <td>0</td>\n",
       "      <td>1</td>\n",
       "      <td>0</td>\n",
       "      <td>0</td>\n",
       "      <td>0</td>\n",
       "    </tr>\n",
       "    <tr>\n",
       "      <th>3</th>\n",
       "      <td>20</td>\n",
       "      <td>298000.0</td>\n",
       "      <td>662</td>\n",
       "      <td>0</td>\n",
       "      <td>1</td>\n",
       "      <td>0</td>\n",
       "      <td>0</td>\n",
       "      <td>0</td>\n",
       "      <td>0</td>\n",
       "      <td>0</td>\n",
       "      <td>0</td>\n",
       "      <td>0</td>\n",
       "      <td>0</td>\n",
       "      <td>0</td>\n",
       "      <td>0</td>\n",
       "      <td>0</td>\n",
       "      <td>1</td>\n",
       "      <td>0</td>\n",
       "      <td>0</td>\n",
       "    </tr>\n",
       "    <tr>\n",
       "      <th>5</th>\n",
       "      <td>20</td>\n",
       "      <td>180000.0</td>\n",
       "      <td>531</td>\n",
       "      <td>0</td>\n",
       "      <td>0</td>\n",
       "      <td>0</td>\n",
       "      <td>0</td>\n",
       "      <td>1</td>\n",
       "      <td>0</td>\n",
       "      <td>0</td>\n",
       "      <td>0</td>\n",
       "      <td>0</td>\n",
       "      <td>0</td>\n",
       "      <td>0</td>\n",
       "      <td>0</td>\n",
       "      <td>0</td>\n",
       "      <td>0</td>\n",
       "      <td>1</td>\n",
       "      <td>0</td>\n",
       "    </tr>\n",
       "    <tr>\n",
       "      <th>6</th>\n",
       "      <td>18</td>\n",
       "      <td>119000.0</td>\n",
       "      <td>634</td>\n",
       "      <td>0</td>\n",
       "      <td>0</td>\n",
       "      <td>1</td>\n",
       "      <td>0</td>\n",
       "      <td>0</td>\n",
       "      <td>0</td>\n",
       "      <td>0</td>\n",
       "      <td>0</td>\n",
       "      <td>0</td>\n",
       "      <td>0</td>\n",
       "      <td>1</td>\n",
       "      <td>0</td>\n",
       "      <td>0</td>\n",
       "      <td>0</td>\n",
       "      <td>0</td>\n",
       "      <td>0</td>\n",
       "    </tr>\n",
       "  </tbody>\n",
       "</table>\n",
       "</div>"
      ],
      "text/plain": [
       "   seniority    salary  duration  company_id_1  company_id_2  company_id_3  \\\n",
       "1         21  191000.0       304             0             0             0   \n",
       "2          9   90000.0      1110             0             0             1   \n",
       "3         20  298000.0       662             0             1             0   \n",
       "5         20  180000.0       531             0             0             0   \n",
       "6         18  119000.0       634             0             0             1   \n",
       "\n",
       "   company_id_4  company_id_5  company_id_6  company_id_7  company_id_8  \\\n",
       "1             0             0             0             0             1   \n",
       "2             0             0             0             0             0   \n",
       "3             0             0             0             0             0   \n",
       "5             0             1             0             0             0   \n",
       "6             0             0             0             0             0   \n",
       "\n",
       "   company_id_9  company_id_10  dept_customer_service  dept_data_science  \\\n",
       "1             0              0                      0                  0   \n",
       "2             0              0                      0                  0   \n",
       "3             0              0                      0                  0   \n",
       "5             0              0                      0                  0   \n",
       "6             0              0                      1                  0   \n",
       "\n",
       "   dept_design  dept_engineer  dept_marketing  dept_sales  \n",
       "1            1              0               0           0  \n",
       "2            1              0               0           0  \n",
       "3            0              1               0           0  \n",
       "5            0              0               1           0  \n",
       "6            0              0               0           0  "
      ]
     },
     "execution_count": 168,
     "metadata": {},
     "output_type": "execute_result"
    }
   ],
   "source": [
    "X.head()"
   ]
  },
  {
   "cell_type": "code",
   "execution_count": 77,
   "metadata": {},
   "outputs": [],
   "source": [
    "X_train, X_test, y_train, y_test = train_test_split(X, y, random_state=0)"
   ]
  },
  {
   "cell_type": "markdown",
   "metadata": {},
   "source": [
    "### Scale the features"
   ]
  },
  {
   "cell_type": "markdown",
   "metadata": {},
   "source": [
    "Scaling the feature could make Logitstic Regression converge sooner.  It's required when using model like SVM."
   ]
  },
  {
   "cell_type": "code",
   "execution_count": 78,
   "metadata": {},
   "outputs": [
    {
     "name": "stderr",
     "output_type": "stream",
     "text": [
      "/anaconda3/lib/python3.7/site-packages/sklearn/preprocessing/data.py:323: DataConversionWarning: Data with input dtype uint8, int64, float64 were all converted to float64 by MinMaxScaler.\n",
      "  return self.partial_fit(X, y)\n"
     ]
    }
   ],
   "source": [
    "scaler = MinMaxScaler()\n",
    "scaler.fit(X_train)\n",
    "X_train = scaler.transform(X_train)\n",
    "X_test = scaler.transform(X_test)\n"
   ]
  },
  {
   "cell_type": "markdown",
   "metadata": {},
   "source": [
    "### LogisticRegression\n",
    "Use Logistic Regression as the base line."
   ]
  },
  {
   "cell_type": "code",
   "execution_count": 183,
   "metadata": {},
   "outputs": [],
   "source": [
    "param = {\"C\": [0.01, 0.1, 1, 10, 100]}\n",
    "grid_search = GridSearchCV(LogisticRegression(solver=\"lbfgs\", max_iter=2000), param, cv=5)"
   ]
  },
  {
   "cell_type": "code",
   "execution_count": 184,
   "metadata": {},
   "outputs": [
    {
     "data": {
      "text/plain": [
       "GridSearchCV(cv=5, error_score='raise-deprecating',\n",
       "       estimator=LogisticRegression(C=1.0, class_weight=None, dual=False, fit_intercept=True,\n",
       "          intercept_scaling=1, max_iter=2000, multi_class='warn',\n",
       "          n_jobs=None, penalty='l2', random_state=None, solver='lbfgs',\n",
       "          tol=0.0001, verbose=0, warm_start=False),\n",
       "       fit_params=None, iid='warn', n_jobs=None,\n",
       "       param_grid={'C': [0.01, 0.1, 1, 10, 100]}, pre_dispatch='2*n_jobs',\n",
       "       refit=True, return_train_score='warn', scoring=None, verbose=0)"
      ]
     },
     "execution_count": 184,
     "metadata": {},
     "output_type": "execute_result"
    }
   ],
   "source": [
    "grid_search.fit(X_train, y_train)"
   ]
  },
  {
   "cell_type": "code",
   "execution_count": 185,
   "metadata": {},
   "outputs": [
    {
     "data": {
      "text/plain": [
       "LogisticRegression(C=1, class_weight=None, dual=False, fit_intercept=True,\n",
       "          intercept_scaling=1, max_iter=2000, multi_class='warn',\n",
       "          n_jobs=None, penalty='l2', random_state=None, solver='lbfgs',\n",
       "          tol=0.0001, verbose=0, warm_start=False)"
      ]
     },
     "execution_count": 185,
     "metadata": {},
     "output_type": "execute_result"
    }
   ],
   "source": [
    "grid_search.best_estimator_"
   ]
  },
  {
   "cell_type": "code",
   "execution_count": 186,
   "metadata": {},
   "outputs": [
    {
     "name": "stdout",
     "output_type": "stream",
     "text": [
      "Accuracy of Logistic Regression on Training data 0.623\n",
      "Accuracy of Logistic Regression on Training data 0.614\n"
     ]
    }
   ],
   "source": [
    "print(\"Accuracy of Logistic Regression on Training data {:.3f}\".format(grid_search.score(X_train, y_train)))\n",
    "print(\"Accuracy of Logistic Regression on Training data {:.3f}\".format(grid_search.score(X_test, y_test)))\n"
   ]
  },
  {
   "cell_type": "markdown",
   "metadata": {},
   "source": [
    "### Random forest"
   ]
  },
  {
   "cell_type": "code",
   "execution_count": 187,
   "metadata": {},
   "outputs": [],
   "source": [
    "param = {\"n_estimators\": [100, 150], \n",
    "        \"max_depth\": [2, 4, 6]}\n",
    "grid_search = GridSearchCV(RandomForestClassifier(random_state=0), param, cv=5)"
   ]
  },
  {
   "cell_type": "code",
   "execution_count": 188,
   "metadata": {},
   "outputs": [
    {
     "data": {
      "text/plain": [
       "GridSearchCV(cv=5, error_score='raise-deprecating',\n",
       "       estimator=RandomForestClassifier(bootstrap=True, class_weight=None, criterion='gini',\n",
       "            max_depth=None, max_features='auto', max_leaf_nodes=None,\n",
       "            min_impurity_decrease=0.0, min_impurity_split=None,\n",
       "            min_samples_leaf=1, min_samples_split=2,\n",
       "            min_weight_fraction_leaf=0.0, n_estimators='warn', n_jobs=None,\n",
       "            oob_score=False, random_state=0, verbose=0, warm_start=False),\n",
       "       fit_params=None, iid='warn', n_jobs=None,\n",
       "       param_grid={'n_estimators': [100, 150], 'max_depth': [2, 4, 6]},\n",
       "       pre_dispatch='2*n_jobs', refit=True, return_train_score='warn',\n",
       "       scoring=None, verbose=0)"
      ]
     },
     "execution_count": 188,
     "metadata": {},
     "output_type": "execute_result"
    }
   ],
   "source": [
    "grid_search.fit(X_train, y_train)"
   ]
  },
  {
   "cell_type": "code",
   "execution_count": 190,
   "metadata": {},
   "outputs": [
    {
     "data": {
      "text/plain": [
       "RandomForestClassifier(bootstrap=True, class_weight=None, criterion='gini',\n",
       "            max_depth=6, max_features='auto', max_leaf_nodes=None,\n",
       "            min_impurity_decrease=0.0, min_impurity_split=None,\n",
       "            min_samples_leaf=1, min_samples_split=2,\n",
       "            min_weight_fraction_leaf=0.0, n_estimators=150, n_jobs=None,\n",
       "            oob_score=False, random_state=0, verbose=0, warm_start=False)"
      ]
     },
     "execution_count": 190,
     "metadata": {},
     "output_type": "execute_result"
    }
   ],
   "source": [
    "grid_search.best_estimator_"
   ]
  },
  {
   "cell_type": "code",
   "execution_count": 191,
   "metadata": {},
   "outputs": [
    {
     "name": "stdout",
     "output_type": "stream",
     "text": [
      "Accuracy of Random Forest on Training data 0.710\n",
      "Accuracy of Random Forest on Training data 0.697\n"
     ]
    }
   ],
   "source": [
    "print(\"Accuracy of Random Forest on Training data {:.3f}\".format(grid_search.score(X_train, y_train)))\n",
    "print(\"Accuracy of Random Forest on Training data {:.3f}\".format(grid_search.score(X_test, y_test)))\n"
   ]
  },
  {
   "cell_type": "markdown",
   "metadata": {},
   "source": [
    "### Gradient Boosting Machine"
   ]
  },
  {
   "cell_type": "code",
   "execution_count": 81,
   "metadata": {},
   "outputs": [],
   "source": [
    "from sklearn.ensemble import GradientBoostingClassifier"
   ]
  },
  {
   "cell_type": "code",
   "execution_count": 82,
   "metadata": {},
   "outputs": [
    {
     "data": {
      "text/plain": [
       "GradientBoostingClassifier(criterion='friedman_mse', init=None,\n",
       "              learning_rate=0.1, loss='deviance', max_depth=3,\n",
       "              max_features=None, max_leaf_nodes=None,\n",
       "              min_impurity_decrease=0.0, min_impurity_split=None,\n",
       "              min_samples_leaf=1, min_samples_split=2,\n",
       "              min_weight_fraction_leaf=0.0, n_estimators=100,\n",
       "              n_iter_no_change=None, presort='auto', random_state=None,\n",
       "              subsample=1.0, tol=0.0001, validation_fraction=0.1,\n",
       "              verbose=0, warm_start=False)"
      ]
     },
     "execution_count": 82,
     "metadata": {},
     "output_type": "execute_result"
    }
   ],
   "source": [
    "gbm = GradientBoostingClassifier()\n",
    "gbm.fit(X_train, y_train)\n"
   ]
  },
  {
   "cell_type": "code",
   "execution_count": 83,
   "metadata": {},
   "outputs": [
    {
     "data": {
      "text/plain": [
       "0.791111596418432"
      ]
     },
     "execution_count": 83,
     "metadata": {},
     "output_type": "execute_result"
    }
   ],
   "source": [
    "gbm.score(X_train, y_train)"
   ]
  },
  {
   "cell_type": "code",
   "execution_count": 84,
   "metadata": {},
   "outputs": [
    {
     "data": {
      "text/plain": [
       "0.7849656075990828"
      ]
     },
     "execution_count": 84,
     "metadata": {},
     "output_type": "execute_result"
    }
   ],
   "source": [
    "gbm.score(X_test, y_test)"
   ]
  },
  {
   "cell_type": "markdown",
   "metadata": {},
   "source": [
    "Gradient Boosting Models have best performance. Check the feature importance."
   ]
  },
  {
   "cell_type": "code",
   "execution_count": 85,
   "metadata": {},
   "outputs": [],
   "source": [
    "feature_importance = pd.DataFrame()"
   ]
  },
  {
   "cell_type": "code",
   "execution_count": 86,
   "metadata": {},
   "outputs": [],
   "source": [
    "feature_importance[\"feature_name\"] = X.columns\n",
    "feature_importance[\"feature importance\"] = gbm.feature_importances_ "
   ]
  },
  {
   "cell_type": "code",
   "execution_count": 87,
   "metadata": {},
   "outputs": [],
   "source": [
    "feature_importance = feature_importance.sort_values(by=[\"feature importance\"], ascending=False)\n"
   ]
  },
  {
   "cell_type": "code",
   "execution_count": 88,
   "metadata": {},
   "outputs": [
    {
     "data": {
      "text/html": [
       "<div>\n",
       "<style scoped>\n",
       "    .dataframe tbody tr th:only-of-type {\n",
       "        vertical-align: middle;\n",
       "    }\n",
       "\n",
       "    .dataframe tbody tr th {\n",
       "        vertical-align: top;\n",
       "    }\n",
       "\n",
       "    .dataframe thead th {\n",
       "        text-align: right;\n",
       "    }\n",
       "</style>\n",
       "<table border=\"1\" class=\"dataframe\">\n",
       "  <thead>\n",
       "    <tr style=\"text-align: right;\">\n",
       "      <th></th>\n",
       "      <th>feature_name</th>\n",
       "      <th>feature importance</th>\n",
       "    </tr>\n",
       "  </thead>\n",
       "  <tbody>\n",
       "    <tr>\n",
       "      <th>2</th>\n",
       "      <td>duration</td>\n",
       "      <td>0.976475</td>\n",
       "    </tr>\n",
       "    <tr>\n",
       "      <th>1</th>\n",
       "      <td>salary</td>\n",
       "      <td>0.019887</td>\n",
       "    </tr>\n",
       "    <tr>\n",
       "      <th>0</th>\n",
       "      <td>seniority</td>\n",
       "      <td>0.001908</td>\n",
       "    </tr>\n",
       "    <tr>\n",
       "      <th>11</th>\n",
       "      <td>company_id_9</td>\n",
       "      <td>0.000293</td>\n",
       "    </tr>\n",
       "    <tr>\n",
       "      <th>6</th>\n",
       "      <td>company_id_4</td>\n",
       "      <td>0.000283</td>\n",
       "    </tr>\n",
       "    <tr>\n",
       "      <th>12</th>\n",
       "      <td>company_id_10</td>\n",
       "      <td>0.000215</td>\n",
       "    </tr>\n",
       "    <tr>\n",
       "      <th>5</th>\n",
       "      <td>company_id_3</td>\n",
       "      <td>0.000208</td>\n",
       "    </tr>\n",
       "    <tr>\n",
       "      <th>4</th>\n",
       "      <td>company_id_2</td>\n",
       "      <td>0.000181</td>\n",
       "    </tr>\n",
       "    <tr>\n",
       "      <th>7</th>\n",
       "      <td>company_id_5</td>\n",
       "      <td>0.000156</td>\n",
       "    </tr>\n",
       "    <tr>\n",
       "      <th>9</th>\n",
       "      <td>company_id_7</td>\n",
       "      <td>0.000145</td>\n",
       "    </tr>\n",
       "  </tbody>\n",
       "</table>\n",
       "</div>"
      ],
      "text/plain": [
       "     feature_name  feature importance\n",
       "2        duration            0.976475\n",
       "1          salary            0.019887\n",
       "0       seniority            0.001908\n",
       "11   company_id_9            0.000293\n",
       "6    company_id_4            0.000283\n",
       "12  company_id_10            0.000215\n",
       "5    company_id_3            0.000208\n",
       "4    company_id_2            0.000181\n",
       "7    company_id_5            0.000156\n",
       "9    company_id_7            0.000145"
      ]
     },
     "execution_count": 88,
     "metadata": {},
     "output_type": "execute_result"
    }
   ],
   "source": [
    "feature_importance.head(10)"
   ]
  },
  {
   "cell_type": "code",
   "execution_count": 89,
   "metadata": {},
   "outputs": [
    {
     "data": {
      "text/plain": [
       "Text(0.5, 1.0, 'Top 10 important features for employee leave predictor')"
      ]
     },
     "execution_count": 89,
     "metadata": {},
     "output_type": "execute_result"
    },
    {
     "data": {
      "image/png": "[encoded data removed]",
      "text/plain": [
       "<Figure size 432x288 with 1 Axes>"
      ]
     },
     "metadata": {
      "needs_background": "light"
     },
     "output_type": "display_data"
    }
   ],
   "source": [
    "top_10_features = feature_importance[0:10].set_index(\"feature_name\")\n",
    "top_10_features.plot.bar()\n",
    "plt.ylabel(\"Feature importance\", fontsize=12)\n",
    "plt.xlabel(\"Feature names\", fontsize=12)\n",
    "plt.xticks(fontsize=12)\n",
    "plt.title(\"Top 10 important features for employee leave predictor\", fontsize=12)"
   ]
  },
  {
   "cell_type": "markdown",
   "metadata": {},
   "source": [
    "## 5. Result Analysis"
   ]
  },
  {
   "cell_type": "markdown",
   "metadata": {},
   "source": [
    "The most important factor affecting the employee turnover is the time of their stay in the company. It is consistent with our EDA, where the distribution of employee stay time differ a lot between leave and not leave."
   ]
  },
  {
   "cell_type": "code",
   "execution_count": 27,
   "metadata": {},
   "outputs": [
    {
     "data": {
      "text/plain": [
       "<matplotlib.legend.Legend at 0x1a17d11d68>"
      ]
     },
     "execution_count": 27,
     "metadata": {},
     "output_type": "execute_result"
    },
    {
     "data": {
      "image/png": "[encoded data removed]",
      "text/plain": [
       "<Figure size 432x288 with 1 Axes>"
      ]
     },
     "metadata": {
      "needs_background": "light"
     },
     "output_type": "display_data"
    }
   ],
   "source": [
    "stay_df = df[df[\"leave\"] == 0]\n",
    "leave_df = df[df[\"leave\"] == 1]\n",
    "\n",
    "plt.hist(stay_df[\"duration\"]/30, bins=50, alpha=0.8, label='stay')\n",
    "plt.hist(leave_df[\"duration\"] / 30, bins=50, alpha=0.8, label='leave')\n",
    "plt.xlabel(\"stay time(months)\")\n",
    "plt.ylabel(\"count\")\n",
    "plt.title(\"Histogram of the stay time of employees\")\n",
    "plt.legend(loc=\"upper right\")"
   ]
  },
  {
   "cell_type": "markdown",
   "metadata": {},
   "source": [
    "It is illustrated in the figure that there are two peaks of turn over around 12 months and 24 months. Let's compare the turnover ratio over time."
   ]
  },
  {
   "cell_type": "markdown",
   "metadata": {},
   "source": [
    "### Compute the relationship between the leaving ratio and the time in the company "
   ]
  },
  {
   "cell_type": "code",
   "execution_count": 93,
   "metadata": {},
   "outputs": [],
   "source": [
    "sorted_df = df.loc[:, [\"duration\", \"leave\"]].sort_values(by=[\"duration\"])"
   ]
  },
  {
   "cell_type": "code",
   "execution_count": 94,
   "metadata": {},
   "outputs": [],
   "source": [
    "max_months = 60\n",
    "duration_month = [0] * max_months\n",
    "\n",
    "leave_ratio = [0] * max_months\n",
    "i = 0\n",
    "index = 0\n",
    "for month in np.arange(max_months):\n",
    "    duration_month[index] = month\n",
    "    num_leave = 0\n",
    "    num_total = 0\n",
    "    while i < len(sorted_df):\n",
    "        num_total += 1\n",
    "        stay = int(sorted_df.iloc[i, 0] / 30)\n",
    "        if stay < month: \n",
    "            if sorted_df.iloc[i, 1] == 1:\n",
    "                num_leave += 1;\n",
    "        else:\n",
    "            try:\n",
    "                leave_ratio[stay] = num_leave/num_total\n",
    "            except ZeroDivisionError:\n",
    "                print(str(month) + \" \" + str(num_leave) + \" \" + str(num_total))\n",
    "                pass\n",
    "            i = 0\n",
    "            break\n",
    "        i += 1\n",
    "    index += 1\n",
    "    "
   ]
  },
  {
   "cell_type": "code",
   "execution_count": 95,
   "metadata": {},
   "outputs": [
    {
     "data": {
      "text/plain": [
       "Text(0.5, 1.0, 'Trend of Turnover ratio vs Employee Stay Time in the company')"
      ]
     },
     "execution_count": 95,
     "metadata": {},
     "output_type": "execute_result"
    },
    {
     "data": {
      "image/png": "[encoded data removed]",
      "text/plain": [
       "<Figure size 432x288 with 1 Axes>"
      ]
     },
     "metadata": {
      "needs_background": "light"
     },
     "output_type": "display_data"
    }
   ],
   "source": [
    "plt.plot(duration_month, leave_ratio)\n",
    "plt.xlabel(\"Employee Stay Time(months)\")\n",
    "plt.ylabel(\"Turnover Ratio\")\n",
    "plt.title(\"Trend of Turnover ratio vs Employee Stay Time in the company\")"
   ]
  },
  {
   "cell_type": "markdown",
   "metadata": {},
   "source": [
    "The figure shows the leaving ratio has a great increase around 13 months. It means the employee tend to leave when they have stayed in the company for around 13 monthis.  The company need do something to keep the employee at the time. "
   ]
  },
  {
   "cell_type": "markdown",
   "metadata": {},
   "source": [
    "## Conclusion\n",
    "The time the employee stayed in the company is the most important factor of turnover. The analysis shows when the employee has stayed in the company for around 13 months, the turnover rate begin to increase a lot. The company need to action to keep these employee. For example, we could do survey when employees reach their one-year and two years anniversary to know what are their concerns and expectation of the company. \n",
    "\n",
    "To know more about the reason of turn over, we'd better collect more data like whether and when employees get a promotion in the company, when and how much the salary increase or even their rating of performance over time. These data would give us more insight on the reason of turnover and take action to decrease turnover. "
   ]
  },
  {
   "cell_type": "code",
   "execution_count": null,
   "metadata": {},
   "outputs": [],
   "source": []
  }
 ],
 "metadata": {
  "kernelspec": {
   "display_name": "Python 3",
   "language": "python",
   "name": "python3"
  },
  "language_info": {
   "codemirror_mode": {
    "name": "ipython",
    "version": 3
   },
   "file_extension": ".py",
   "mimetype": "text/x-python",
   "name": "python",
   "nbconvert_exporter": "python",
   "pygments_lexer": "ipython3",
   "version": "3.7.1"
  }
 },
 "nbformat": 4,
 "nbformat_minor": 2
}
